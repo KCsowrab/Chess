{
 "cells": [
  {
   "cell_type": "markdown",
   "metadata": {},
   "source": [
    "# Data load"
   ]
  },
  {
   "cell_type": "code",
   "execution_count": 346,
   "metadata": {},
   "outputs": [],
   "source": [
    "import pickle\n",
    "f = open(\"X_data\", \"rb\")\n",
    "X_data = pickle.load(f)\n",
    "f.close()\n",
    "f = open(\"y_data\", \"rb\")\n",
    "y_data = pickle.load(f)\n",
    "f.close()"
   ]
  },
  {
   "cell_type": "code",
   "execution_count": 349,
   "metadata": {},
   "outputs": [],
   "source": [
    "X = X_data\n",
    "y = y_data"
   ]
  },
  {
   "cell_type": "markdown",
   "metadata": {
    "heading_collapsed": true
   },
   "source": [
    "# Drawing pieces"
   ]
  },
  {
   "cell_type": "code",
   "execution_count": 1,
   "metadata": {
    "hidden": true
   },
   "outputs": [],
   "source": [
    "def Drawing(string):\n",
    "\n",
    "    Num = [\"1\",\"2\",\"3\",\"4\",\"5\",\"6\",\"7\",\"8\"]\n",
    "    for piece in string:\n",
    "        if piece == \"r\":\n",
    "            print(\"♜\", end=\"\")\n",
    "        elif piece == \"n\":\n",
    "            print(\"♞\", end=\"\")\n",
    "        elif piece == \"b\":\n",
    "            print(\"♝\", end=\"\")\n",
    "        elif piece == \"q\":\n",
    "            print(\"♛\", end=\"\")\n",
    "        elif piece == \"k\":\n",
    "            print(\"♚\", end=\"\")\n",
    "        elif piece == \"p\":\n",
    "            print(\"♟\", end=\"\")\n",
    "\n",
    "\n",
    "        elif piece == \"R\":\n",
    "            print(\"♖\", end=\"\")\n",
    "        elif piece == \"N\":\n",
    "            print(\"♘\", end=\"\")\n",
    "        elif piece == \"B\":\n",
    "            print(\"♗\", end=\"\")\n",
    "        elif piece == \"Q\":\n",
    "            print(\"♕\", end=\"\")\n",
    "        elif piece == \"K\":\n",
    "            print(\"♔\", end=\"\")\n",
    "        elif piece == \"P\":\n",
    "            print(\"♙\", end=\"\")\n",
    "        \n",
    "        elif piece == \"/\":\n",
    "            print(\"\")\n",
    "            print(\"----------------\")\n",
    "        \n",
    "        elif piece in Num:\n",
    "            for s in range(int(piece)):\n",
    "                print(\"　\", end=\"\")\n",
    "        elif piece == \" \":\n",
    "            break\n",
    "        "
   ]
  },
  {
   "cell_type": "markdown",
   "metadata": {
    "heading_collapsed": true,
    "hidden": true
   },
   "source": [
    "## Open source"
   ]
  },
  {
   "cell_type": "code",
   "execution_count": 343,
   "metadata": {
    "hidden": true
   },
   "outputs": [],
   "source": [
    "from __future__ import print_function#OPEN SOURCE\n",
    "from __future__ import division#OPEN SOURCE\n",
    "from functools import partial#OPEN SOURCE\n",
    "import math#OPEN SOURCE\n",
    "import re#OPEN SOURCE\n",
    "import os#OPEN SOURCE\n",
    "\n",
    "\n",
    "#######################################################################OPEN SOURCE\n",
    "class PgnToFen:\n",
    "    fen = 'rnbqkbnr/pppppppp/8/8/8/8/PPPPPPPP/RNBQKBNR'\n",
    "    whiteToMove = True\n",
    "    internalChessBoard = [\n",
    "        'R','N','B','Q','K','B','N','R',\n",
    "        'P','P','P','P','P','P','P','P',\n",
    "        '1','1','1','1','1','1','1','1',\n",
    "        '1','1','1','1','1','1','1','1',\n",
    "        '1','1','1','1','1','1','1','1',\n",
    "        '1','1','1','1','1','1','1','1',\n",
    "        'p','p','p','p','p','p','p','p',\n",
    "        'r','n','b','q','k','b','n','r']\n",
    "    enpassant = '-'\n",
    "    castlingRights = 'KQkq'\n",
    "    DEBUG = False\n",
    "    lastMove = 'Before first move'\n",
    "    fens = []\n",
    "    result = ''\n",
    "\n",
    "    def getFullFen(self):\n",
    "        return self.getFen() + ' ' + ('w ' if self.whiteToMove else 'b ') + self.enpassant + ' ' + (self.castlingRights if self.castlingRights else '-')\n",
    "\n",
    "    def getFen(self):\n",
    "        fenpos = ''\n",
    "        for n in reversed((8,16,24,32,40,48,56,64)):\n",
    "            emptyPosLength = 0;\n",
    "            for i in self.internalChessBoard[n-8:n]:\n",
    "                if(i is not '1'):\n",
    "                    if(emptyPosLength is not 0):\n",
    "                        fenpos = fenpos + str(emptyPosLength);\n",
    "                        emptyPosLength = 0\n",
    "                    fenpos = fenpos + i\n",
    "                else:\n",
    "                    emptyPosLength = emptyPosLength + 1\n",
    "            if(emptyPosLength is not 0):\n",
    "                fenpos = fenpos + str(emptyPosLength);\n",
    "            fenpos = fenpos + '/'\n",
    "        fenpos = fenpos[:-1]\n",
    "        return fenpos\n",
    "\n",
    "    def printFen(self):\n",
    "        print(self.getFen())\n",
    "\n",
    "    def moves(self, moves):\n",
    "        if isinstance(moves, str):\n",
    "            nrReCompile = re.compile('[0-9]+\\.')\n",
    "            transformedMoves = nrReCompile.sub('', moves)\n",
    "            pgnMoves = transformedMoves.replace('  ', ' ').split(' ')\n",
    "            result = pgnMoves[-1:][0]\n",
    "            if(result in ['1/2-1/2', '1-0', '0-1']):\n",
    "                self.result = result\n",
    "                pgnMoves = pgnMoves[:-1]\n",
    "            print('pgnMoves')\n",
    "            print(pgnMoves)\n",
    "            return self.pgnToFen(pgnMoves)\n",
    "        else:\n",
    "            return self.pgnToFen(moves)\n",
    "\n",
    "    def pgnFile(self, file):\n",
    "        pgnGames = {\n",
    "        'failed' : [],\n",
    "        'succeeded' : [],\n",
    "        }\n",
    "        started = False\n",
    "        game_info = []\n",
    "        pgnMoves = ''\n",
    "        for moves in open(file, 'rt').readlines():\n",
    "\n",
    "            if moves[:1] == '[':\n",
    "                #print('game_info line: ', moves)\n",
    "                game_info.append(moves)\n",
    "                continue\n",
    "            if moves[:2] == '1.':\n",
    "                started = True\n",
    "            if (moves == '\\n' or moves == '\\r\\n') and started:\n",
    "                try:\n",
    "                    #print('Processing ', game_info[0:6])\n",
    "                    pgnToFen = PgnToFen()\n",
    "                    pgnToFen.resetBoard()\n",
    "                    fens = pgnToFen.moves(pgnMoves).getAllFens()\n",
    "                    pgnGames['succeeded'].append((game_info, fens))\n",
    "                except ValueError as e:\n",
    "                    pgnGames['failed'].append((game_info, '\"' + pgnToFen.lastMove + '\"', pgnToFen.getFullFen(), e))\n",
    "                except TypeError as e:\n",
    "                    pgnGames['failed'].append((game_info, '\"' + pgnToFen.lastMove + '\"', pgnToFen.getFullFen(), e))\n",
    "                except IndexError as e:\n",
    "                    raise IndexError(game_info, '\"' + pgnToFen.lastMove + '\"', pgnToFen.getFullFen(), e)\n",
    "                    pgnGames['failed'].append((game_info, '\"' + pgnToFen.lastMove + '\"', pgnToFen.getFullFen(), e))\n",
    "                except ZeroDivisionError as e:\n",
    "                    pgnGames['failed'].append((game_info, '\"' + pgnToFen.lastMove + '\"', pgnToFen.getFullFen(), e))\n",
    "                finally:\n",
    "                    started = False\n",
    "                    game_info = []\n",
    "                    pgnMoves = ''\n",
    "            if(started):\n",
    "                pgnMoves = pgnMoves + ' ' + moves.replace('\\n', '').replace('\\r', '')\n",
    "        return pgnGames\n",
    "\n",
    "    def pgnToFen(self, moves):\n",
    "        try:\n",
    "            loopC = 1\n",
    "            for move in moves:\n",
    "                self.lastMove = move\n",
    "                self.DEBUG and print('=========')\n",
    "                self.DEBUG and print('Movenumber',loopC)\n",
    "                self.DEBUG and print('TO MOVE:', 'w' if self.whiteToMove else 'b')\n",
    "                self.DEBUG and print('MOVE:', move)\n",
    "                self.move(move)\n",
    "                self.DEBUG and print('after move:')\n",
    "                self.DEBUG and self.printBoard()\n",
    "                loopC = loopC + 1\n",
    "                self.fens.append(self.getFullFen())\n",
    "            self.sucess = True\n",
    "            return self\n",
    "        except ValueError:\n",
    "            print('Converting PGN to FEN failed.')\n",
    "            print('Move that failed:', self.lastMove)\n",
    "            self.printBoard()\n",
    "            print(self.getFullFen())\n",
    "            self.fens = []\n",
    "            self.sucess = False\n",
    "\n",
    "\n",
    "\n",
    "    def move(self, move):\n",
    "        try:\n",
    "            self.lastMove = move\n",
    "            self.handleAllmoves(move)\n",
    "            if(self.whiteToMove):\n",
    "                self.whiteToMove = False\n",
    "            else:\n",
    "                self.whiteToMove = True\n",
    "            return self\n",
    "        except ValueError:\n",
    "            self.DEBUG and print('Converting PGN to FEN failed.')\n",
    "            self.DEBUG and print('Move that failed:', self.lastMove)\n",
    "            self.DEBUG and self.printBoard()\n",
    "            self.DEBUG and print('FEN:', self.getFullFen())\n",
    "\n",
    "    def getAllFens(self):\n",
    "        return self.fens\n",
    "\n",
    "    def handleAllmoves(self, move):\n",
    "        move = move.replace('+', '')\n",
    "        move = move.replace('#', '')\n",
    "        promote = ''\n",
    "        if(move.find('=') > -1):\n",
    "            promote = move[-1]\n",
    "            move = move[:-2]\n",
    "        if(move.find('-O') != -1):\n",
    "            self.castelingMove(move)\n",
    "            return;\n",
    "        toPosition = move[-2:]\n",
    "        move = move[:-2]\n",
    "        if len(move) > 0:\n",
    "            if move[0] in ['R','N','B','Q','K']:\n",
    "                officer = move[0]\n",
    "                move = move[1:]\n",
    "            else:\n",
    "                officer = 'P'\n",
    "        else:\n",
    "            officer = 'P'\n",
    "        takes = False\n",
    "        if 'x' in move:\n",
    "            takes = True\n",
    "            move = move[:-1]\n",
    "        specificRow = \"\"\n",
    "        specificCol = \"\"\n",
    "        if len(move) > 0:\n",
    "            if move in ['1','2','3','4','5','6','7','8']:\n",
    "                specificRow = move\n",
    "            elif move in ['a','b','c','d','e','f','g','h']:\n",
    "                specificCol = move\n",
    "            elif len(move) == 2:\n",
    "                specificCol = move[0]\n",
    "                specificRow = move[1]\n",
    "        if(officer != 'P'):\n",
    "            self.enpassant = '-'\n",
    "        if(officer == 'N'):\n",
    "            self.knightMove(toPosition, specificCol, specificRow)\n",
    "        elif(officer == 'B'):\n",
    "            self.bishopMove(toPosition, specificCol, specificRow)\n",
    "        elif(officer == 'R'):\n",
    "            self.rookMove(toPosition, specificCol, specificRow)\n",
    "        elif(officer == 'Q'):\n",
    "            self.queenMove(toPosition, specificCol, specificRow)\n",
    "        elif(officer == 'K'):\n",
    "            self.kingMove(toPosition, specificCol, specificRow)\n",
    "        elif(officer == 'P'):\n",
    "            self.pawnMove(toPosition, specificCol, specificRow, takes, promote)\n",
    "\n",
    "    def castelingMove(self, move):\n",
    "        if(len(move) == 3): #short castling\n",
    "            if(self.whiteToMove):\n",
    "                self.internalChessBoard[7] = '1'\n",
    "                self.internalChessBoard[6] = 'K'\n",
    "                self.internalChessBoard[5] = 'R'\n",
    "                self.internalChessBoard[4] = '1'\n",
    "                self.castlingRights = self.castlingRights.replace('KQ','')\n",
    "\n",
    "            else:\n",
    "                self.internalChessBoard[63] = '1'\n",
    "                self.internalChessBoard[62] = 'k'\n",
    "                self.internalChessBoard[61] = 'r'\n",
    "                self.internalChessBoard[60] = '1'\n",
    "                self.castlingRights = self.castlingRights.replace('kq', '')\n",
    "        else: # long castling\n",
    "            if(self.whiteToMove):\n",
    "                self.internalChessBoard[0] = '1'\n",
    "                self.internalChessBoard[2] = 'K'\n",
    "                self.internalChessBoard[3] = 'R'\n",
    "                self.internalChessBoard[4] = '1'\n",
    "                self.castlingRights = self.castlingRights.replace('KQ', '')\n",
    "            else:\n",
    "                self.internalChessBoard[60] = '1'\n",
    "                self.internalChessBoard[59] = 'r'\n",
    "                self.internalChessBoard[58] = 'k'\n",
    "                self.internalChessBoard[56] = '1'\n",
    "                self.castlingRights = self.castlingRights.replace('kq', '')\n",
    "\n",
    "    def queenMove(self, move, specificCol, specificRow):\n",
    "        column = move[:1]\n",
    "        row = move[1:2]\n",
    "        chessBoardNumber = self.placeOnBoard(row, column)\n",
    "        piece = 'Q' if self.whiteToMove else 'q'\n",
    "        possibelPositons = [i for i, pos in enumerate(self.internalChessBoard) if pos == piece]\n",
    "        self.validQueenMoves(possibelPositons, move, specificCol, specificRow)\n",
    "        self.internalChessBoard[chessBoardNumber] = piece\n",
    "\n",
    "    def validQueenMoves(self, posistions, move, specificCol, specificRow):\n",
    "        newColumn = self.columnToInt(move[:1])\n",
    "        newRow = self.rowToInt(move[1:2])\n",
    "        newPos = self.placeOnBoard(newRow + 1, move[:1])\n",
    "        potensialPosisitionsToRemove=[]\n",
    "        for pos in posistions:\n",
    "            (existingRow, existingCol) = self.internalChessBoardPlaceToPlaceOnBoard(pos)\n",
    "            diffRow = int(existingRow - newRow)\n",
    "            diffCol = int(self.columnToInt(existingCol) - newColumn)\n",
    "            if diffRow == 0 or diffCol == 0 or diffRow == diffCol or -diffRow == diffCol or diffRow == -diffCol:\n",
    "                if not specificCol or specificCol == existingCol:\n",
    "                    if not specificRow or (int(specificRow) -1) == int(existingRow):\n",
    "                        xVect = 0\n",
    "                        yVect = 0\n",
    "                        if abs(diffRow) > abs(diffCol):\n",
    "                            xVect = -(diffCol / abs(diffRow))\n",
    "                            yVect = -(diffRow / abs(diffRow))\n",
    "                        else:\n",
    "                            xVect = -(diffCol / abs(diffCol))\n",
    "                            yVect = -(diffRow / abs(diffCol))\n",
    "                        checkPos = pos\n",
    "                        nothingInBetween = True\n",
    "                        while(checkPos != newPos):\n",
    "                            checkPos = int(checkPos + yVect * 8 + xVect)\n",
    "                            if(checkPos == newPos):\n",
    "                                continue\n",
    "                            if self.internalChessBoard[checkPos] != \"1\":\n",
    "                                nothingInBetween = False\n",
    "                        if nothingInBetween:\n",
    "                            potensialPosisitionsToRemove.append(pos)\n",
    "        if len(potensialPosisitionsToRemove) == 1:\n",
    "            correctPos = potensialPosisitionsToRemove[0];\n",
    "        else:\n",
    "            if len(potensialPosisitionsToRemove) == 0:\n",
    "                raise ValueError('Cant find a valid posistion to remove', potensialPosisitionsToRemove)\n",
    "            notInCheckLineBindNewPos = partial(self.notInCheckLine, self.posOnBoard('K'))\n",
    "            correctPosToRemove = list(filter(notInCheckLineBindNewPos, potensialPosisitionsToRemove))\n",
    "            if len(correctPosToRemove) > 1:\n",
    "                raise ValueError('Several valid positions to remove from the board')\n",
    "            if len(correctPosToRemove) == 0:\n",
    "                raise ValueError('None valid positions to remove from the board')\n",
    "            correctPos = correctPosToRemove[0]\n",
    "        self.internalChessBoard[correctPos] = \"1\"\n",
    "        return\n",
    "\n",
    "\n",
    "    def rookMove(self, move, specificCol, specificRow):\n",
    "        column = move[:1]\n",
    "        row = move[1:2]\n",
    "        chessBoardNumber = self.placeOnBoard(row, column)\n",
    "        piece = 'R' if self.whiteToMove else 'r'\n",
    "        possibelPositons = [i for i, pos in enumerate(self.internalChessBoard) if pos == piece]\n",
    "        self.validRookMoves(possibelPositons, move, specificCol, specificRow)\n",
    "        self.internalChessBoard[chessBoardNumber] = piece\n",
    "\n",
    "    def validRookMoves(self, posistions, move, specificCol, specificRow):\n",
    "        newColumn = self.columnToInt(move[:1])\n",
    "        newRow = self.rowToInt(move[1:2])\n",
    "        newPos = self.placeOnBoard(newRow + 1, move[:1])\n",
    "        potensialPosisitionsToRemove=[]\n",
    "        if(len(posistions) == 1):\n",
    "            self.internalChessBoard[posistions[0]] = \"1\"\n",
    "            return\n",
    "        for pos in posistions:\n",
    "            (existingRow, existingCol) = self.internalChessBoardPlaceToPlaceOnBoard(pos)\n",
    "            diffRow = int(existingRow - newRow)\n",
    "            diffCol = int(self.columnToInt(existingCol) - newColumn)\n",
    "            if diffRow == 0 or diffCol == 0:\n",
    "                if not specificCol or specificCol == existingCol:\n",
    "                    if not specificRow or (int(specificRow) -1) == int(existingRow):\n",
    "                        xVect = 0\n",
    "                        yVect = 0\n",
    "                        if abs(diffRow) > abs(diffCol):\n",
    "                            xVect = -(diffCol / abs(diffRow))\n",
    "                            yVect = -(diffRow / abs(diffRow))\n",
    "                        else:\n",
    "                            xVect = -(diffCol / abs(diffCol))\n",
    "                            yVect = -(diffRow / abs(diffCol))\n",
    "                        checkPos = pos\n",
    "                        nothingInBetween = True\n",
    "                        while(checkPos != newPos):\n",
    "                            checkPos = int(checkPos + yVect * 8 + xVect)\n",
    "                            if(checkPos == newPos):\n",
    "                                continue\n",
    "                            if self.internalChessBoard[checkPos] != \"1\":\n",
    "                                nothingInBetween = False\n",
    "                        if nothingInBetween:\n",
    "                            potensialPosisitionsToRemove.append(pos)\n",
    "        if len(potensialPosisitionsToRemove) == 1:\n",
    "            correctPos = potensialPosisitionsToRemove[0];\n",
    "        else:\n",
    "            if len(potensialPosisitionsToRemove) == 0:\n",
    "                raise ValueError('Cant find a valid posistion to remove', potensialPosisitionsToRemove)\n",
    "            notInCheckLineBindNewPos = partial(self.notInCheckLine, self.posOnBoard('K'))\n",
    "            correctPosToRemove = list(filter(notInCheckLineBindNewPos, potensialPosisitionsToRemove))\n",
    "            if len(correctPosToRemove) > 1:\n",
    "                raise ValueError('Several valid positions to remove from the board')\n",
    "            correctPos = correctPosToRemove[0]\n",
    "        if(correctPos == 0):\n",
    "            self.castlingRights = self.castlingRights.replace('Q', '')\n",
    "        elif(correctPos == 63):\n",
    "            self.castlingRights = self.castlingRights.replace('k', '')\n",
    "        elif(correctPos == 7):\n",
    "            self.castlingRights = self.castlingRights.replace('K', '')\n",
    "        elif(correctPos == (63-8)):\n",
    "            self.castlingRights = self.castlingRights.replace('q', '')\n",
    "        self.internalChessBoard[correctPos] = \"1\"\n",
    "        return\n",
    "\n",
    "    def kingMove(self, move, specificCol, specificRow):\n",
    "        column = move[:1]\n",
    "        row = move[1:2]\n",
    "        chessBoardNumber = self.placeOnBoard(row, column)\n",
    "        piece = 'K' if self.whiteToMove else 'k'\n",
    "        lostCastleRights = 'Q' if self.whiteToMove else 'q'\n",
    "        kingPos = [i for i, pos in enumerate(self.internalChessBoard) if pos == piece]\n",
    "        self.castlingRights = self.castlingRights.replace(piece, '')\n",
    "        self.castlingRights = self.castlingRights.replace(lostCastleRights, '')\n",
    "        self.internalChessBoard[chessBoardNumber] = piece\n",
    "        self.internalChessBoard[kingPos[0]] = '1'\n",
    "\n",
    "\n",
    "    def bishopMove(self, move, specificCol, specificRow):\n",
    "        column = move[:1]\n",
    "        row = move[1:2]\n",
    "        chessBoardNumber = self.placeOnBoard(row, column)\n",
    "        piece = 'B' if self.whiteToMove else 'b'\n",
    "        possibelPositons = [i for i, pos in enumerate(self.internalChessBoard) if pos == piece]\n",
    "        self.validBishopMoves(possibelPositons, move, specificCol, specificRow)\n",
    "        self.internalChessBoard[chessBoardNumber] = piece\n",
    "\n",
    "    def validBishopMoves(self, posistions, move, specificCol, specificRow):\n",
    "        newColumn = self.columnToInt(move[:1])\n",
    "        newRow = self.rowToInt(move[1:2])\n",
    "        newPos = self.placeOnBoard(newRow + 1, move[:1])\n",
    "        potensialPosisitionsToRemove = []\n",
    "        for pos in posistions:\n",
    "            (existingRow, existingCol) = self.internalChessBoardPlaceToPlaceOnBoard(pos)\n",
    "            diffRow = int(existingRow - newRow)\n",
    "            diffCol = int(self.columnToInt(existingCol) - newColumn)\n",
    "            if diffRow == diffCol or -diffRow == diffCol or diffRow == -diffCol:\n",
    "                if not specificCol or specificCol == existingCol:\n",
    "                    if not specificRow or (int(specificRow) -1) == int(existingRow):\n",
    "                        xVect = 0\n",
    "                        yVect = 0\n",
    "                        if abs(diffRow) > abs(diffCol):\n",
    "                            xVect = -(diffCol / abs(diffRow))\n",
    "                            yVect = -(diffRow / abs(diffRow))\n",
    "                        else:\n",
    "                            xVect = -(diffCol / abs(diffCol))\n",
    "                            yVect = -(diffRow / abs(diffCol))\n",
    "                        checkPos = pos\n",
    "                        nothingInBetween = True\n",
    "                        while(checkPos != newPos):\n",
    "                            checkPos = int(checkPos + yVect * 8 + xVect)\n",
    "                            if(checkPos == newPos):\n",
    "                                continue\n",
    "                            if self.internalChessBoard[checkPos] != \"1\":\n",
    "                                nothingInBetween = False\n",
    "                        if nothingInBetween:\n",
    "                            potensialPosisitionsToRemove.append(pos)\n",
    "        if len(potensialPosisitionsToRemove) == 1:\n",
    "            correctPos = potensialPosisitionsToRemove[0];\n",
    "        else:\n",
    "            if len(potensialPosisitionsToRemove) == 0:\n",
    "                raise ValueError('Cant find a valid posistion to remove', potensialPosisitionsToRemove)\n",
    "            notInCheckLineBindNewPos = partial(self.notInCheckLine, self.posOnBoard('K'))\n",
    "            correctPosToRemove = list(filter(notInCheckLineBindNewPos, potensialPosisitionsToRemove))\n",
    "            if len(correctPosToRemove) > 1:\n",
    "                raise ValueError('Several valid positions to remove from the board')\n",
    "            correctPos = correctPosToRemove[0]\n",
    "        self.internalChessBoard[correctPos] = \"1\"\n",
    "\n",
    "    def knightMove(self, move, specificCol, specificRow):\n",
    "        column = move[:1]\n",
    "        row = move[1:2]\n",
    "        chessBoardNumber = self.placeOnBoard(row, column)\n",
    "        piece = 'N' if self.whiteToMove else 'n'\n",
    "        knightPositons = [i for i, pos in enumerate(self.internalChessBoard) if pos == piece]\n",
    "        self.validKnighMoves(knightPositons, move, specificCol, specificRow)\n",
    "        self.internalChessBoard[chessBoardNumber] = piece\n",
    "\n",
    "    def validKnighMoves(self, posistions, move, specificCol, specificRow):\n",
    "        newColumn = self.columnToInt(move[:1])\n",
    "        newRow = self.rowToInt(move[1:2])\n",
    "        potensialPosisitionsToRemove = []\n",
    "        for pos in posistions:\n",
    "            (existingRow, existingCol) = self.internalChessBoardPlaceToPlaceOnBoard(pos)\n",
    "            validatePos = str(int(existingRow - newRow)) + str(int(self.columnToInt(existingCol) - newColumn))\n",
    "            if validatePos in ['2-1','21','1-2','12','-1-2','-12','-2-1','-21']:\n",
    "                if not specificCol or specificCol == existingCol:\n",
    "                    if not specificRow or (int(specificRow) -1) == int(existingRow):\n",
    "                            potensialPosisitionsToRemove.append(pos)\n",
    "        if len(potensialPosisitionsToRemove) == 1:\n",
    "            correctPos = potensialPosisitionsToRemove[0];\n",
    "        else:\n",
    "            if len(potensialPosisitionsToRemove) == 0:\n",
    "                raise ValueError('Cant find a valid posistion to remove', potensialPosisitionsToRemove)\n",
    "            notInCheckLineBindNewPos = partial(self.notInCheckLine, self.posOnBoard('K'))\n",
    "            correctPosToRemove = list(filter(notInCheckLineBindNewPos, potensialPosisitionsToRemove))\n",
    "            if len(correctPosToRemove) > 1:\n",
    "                raise ValueError('Several valid positions to remove from the board')\n",
    "            if len(correctPosToRemove) == 0:\n",
    "                raise ValueError('None valid positions to remove from the board')\n",
    "            correctPos = correctPosToRemove[0]\n",
    "        self.internalChessBoard[correctPos] = \"1\"\n",
    "        return\n",
    "    def pawnMove(self, toPosition, specificCol, specificRow, takes, promote):\n",
    "        column = toPosition[:1]\n",
    "        row = toPosition[1:2]\n",
    "        chessBoardNumber = self.placeOnBoard(row, column)\n",
    "        if(promote):\n",
    "            piece = promote if self.whiteToMove else promote.lower()\n",
    "        else:\n",
    "            piece = 'P' if self.whiteToMove else 'p'\n",
    "        self.internalChessBoard[chessBoardNumber] = piece\n",
    "        if(takes):\n",
    "            removeFromRow = (int(row) - 1) if self.whiteToMove else (int(row) + 1)\n",
    "            posistion = self.placeOnBoard(removeFromRow, specificCol)\n",
    "            piece = self.internalChessBoard[posistion] = '1'\n",
    "            if(self.enpassant != '-'):\n",
    "                enpassantPos = self.placeOnBoard(self.enpassant[1], self.enpassant[0])\n",
    "                toPositionPos = self.placeOnBoard(toPosition[1], toPosition[0])\n",
    "                if(self.enpassant == toPosition):\n",
    "                    if(self.whiteToMove == True):\n",
    "                        self.internalChessBoard[chessBoardNumber - 8] = '1'\n",
    "                    else:\n",
    "                        self.internalChessBoard[chessBoardNumber + 8] = '1'\n",
    "                        return\n",
    "\n",
    "        else:\n",
    "            #run piece one more time if case of promotion\n",
    "            piece = 'P' if self.whiteToMove else 'p'\n",
    "            self.updateOldLinePos(piece,chessBoardNumber, toPosition)\n",
    "\n",
    "\n",
    "    def updateOldLinePos(self, char, posistion, toPosition):\n",
    "        startPos = posistion\n",
    "        counter = 0;\n",
    "        piece = ''\n",
    "        step = 8\n",
    "        while(posistion >= 0 and posistion < 64):\n",
    "            if(piece == char):\n",
    "                if(abs(posistion - startPos) > 10):\n",
    "                    (row, column) = self.internalChessBoardPlaceToPlaceOnBoard(startPos)\n",
    "                    rowAdjustedByColor = -1 if self.whiteToMove else 1\n",
    "                    enpassant = str(column) + str(int(row) + 1 + rowAdjustedByColor)\n",
    "                    self.enpassant = enpassant\n",
    "                else:\n",
    "                    self.enpassant = '-'\n",
    "                piece = self.internalChessBoard[posistion] = '1'\n",
    "                return;\n",
    "            else:\n",
    "                if(self.whiteToMove == True):\n",
    "                    posistion = posistion - step\n",
    "                else:\n",
    "                    posistion = posistion + step\n",
    "                piece = self.internalChessBoard[posistion]\n",
    "\n",
    "\n",
    "    def placeOnBoard(self, row, column):\n",
    "        # returns internalChessBoard place\n",
    "        return 8 * (int(row) - 1) + self.columnToInt(column);\n",
    "\n",
    "    def internalChessBoardPlaceToPlaceOnBoard(self, chessPos):\n",
    "        column = int(chessPos) % 8\n",
    "        row = math.floor(chessPos/8)\n",
    "        return (row, self.intToColum(column))\n",
    "\n",
    "    def rowToInt(self, n):\n",
    "        return int(n)-1\n",
    "\n",
    "    def columnToInt(self, char):\n",
    "        # TODO: char.toLowerCase???\n",
    "        if(char == 'a'):\n",
    "            return 0\n",
    "        elif(char == 'b'):\n",
    "            return 1\n",
    "        elif(char == 'c'):\n",
    "            return 2\n",
    "        elif(char == 'd'):\n",
    "            return 3\n",
    "        elif(char == 'e'):\n",
    "            return 4\n",
    "        elif(char == 'f'):\n",
    "            return 5\n",
    "        elif(char == 'g'):\n",
    "            return 6\n",
    "        elif(char == 'h'):\n",
    "            return 7\n",
    "\n",
    "    def intToColum(self, num):\n",
    "        # TODO: char.toLowerCase???\n",
    "        if(num == 0):\n",
    "            return 'a'\n",
    "        elif(num == 1):\n",
    "            return 'b'\n",
    "        elif(num == 2):\n",
    "            return 'c'\n",
    "        elif(num == 3):\n",
    "            return 'd'\n",
    "        elif(num == 4):\n",
    "            return 'e'\n",
    "        elif(num == 5):\n",
    "            return 'f'\n",
    "        elif(num == 6):\n",
    "            return 'g'\n",
    "        elif(num == 7):\n",
    "            return 'h'\n",
    "\n",
    "    def resetBoard(self):\n",
    "        self.fen = 'rnbqkbnr/pppppppp/8/8/8/8/PPPPPPPP/RNBQKBNR'\n",
    "        self.whiteToMove = True\n",
    "        self.enpassant = '-'\n",
    "        self.internalChessBoard = [\n",
    "            'R','N','B','Q','K','B','N','R',\n",
    "            'P','P','P','P','P','P','P','P',\n",
    "            '1','1','1','1','1','1','1','1',\n",
    "            '1','1','1','1','1','1','1','1',\n",
    "            '1','1','1','1','1','1','1','1',\n",
    "            '1','1','1','1','1','1','1','1',\n",
    "            'p','p','p','p','p','p','p','p',\n",
    "            'r','n','b','q','k','b','n','r']\n",
    "        self.result = ''\n",
    "\n",
    "    def printBoard(self):\n",
    "        loop = 1\n",
    "        for i in self.internalChessBoard:\n",
    "            print(i, end=' ')\n",
    "            if(loop%8 == 0):\n",
    "                print()\n",
    "            loop = loop + 1\n",
    "\n",
    "    def notInCheckLine(self, kingPos, piecePos):\n",
    "        \"\"\"\n",
    "            Verifies that the piece is not standing in \"line of fire\" between and enemy piece and your king as the only piece\n",
    "            :returns: True if the piece can move\n",
    "        \"\"\"\n",
    "        return self.checkLine(kingPos, piecePos)\n",
    "\n",
    "    def checkLine(self, kingPos, piecePos):\n",
    "        (kingRowInt, kingColumn) = self.internalChessBoardPlaceToPlaceOnBoard(kingPos)\n",
    "        kingColumnInt = self.columnToInt(kingColumn)\n",
    "        (pieceRowInt, pieceColumn) = self.internalChessBoardPlaceToPlaceOnBoard(piecePos);\n",
    "        pieceColumnInt = self.columnToInt(pieceColumn)\n",
    "\n",
    "        diffRow = int(kingRowInt - pieceRowInt)\n",
    "        diffCol = int(kingColumnInt - pieceColumnInt)\n",
    "        if (abs(diffRow) !=  abs(diffCol)) and diffRow != 0 and diffCol != 0:\n",
    "            return True\n",
    "        if abs(diffRow) > abs(diffCol):\n",
    "            xVect = (diffCol / abs(diffRow))\n",
    "            yVect = -(diffRow / abs(diffRow))\n",
    "        else:\n",
    "            xVect = -(diffCol / abs(diffCol))\n",
    "            yVect = -(diffRow / abs(diffCol))\n",
    "        checkPos = kingPos\n",
    "        nothingInBetween = True\n",
    "        while checkPos != piecePos and (checkPos < 64 and checkPos > 0):\n",
    "            checkPos = int(checkPos + yVect * 8 + xVect)\n",
    "            if(checkPos == piecePos):\n",
    "                continue\n",
    "            if self.internalChessBoard[checkPos] != \"1\":\n",
    "                #print('Something between king and piece, returning a false value')\n",
    "                # Piece between the king and the piece can not be a self-disvoery-check.\n",
    "                return True\n",
    "        #print('No piece between the king and the piece, need to verify if an enemy piece with the possibily to go that  direction exist')\n",
    "        # No piece between the king and the piece, need to verify if an enemy piece with the possibily to go that  direction exist\n",
    "\n",
    "        columnNr = (piecePos % 8)\n",
    "        if(xVect == 1):\n",
    "            columnsLeft = 7- columnNr\n",
    "        else:\n",
    "            columnsLeft = columnNr\n",
    "        posInMove = (yVect * 8) + xVect\n",
    "\n",
    "        while checkPos >= 0 and checkPos < 64 and columnsLeft > -1:\n",
    "            columnsLeft = columnsLeft - abs(xVect)\n",
    "            checkPos = int(checkPos + posInMove)\n",
    "            if(checkPos < 0 or checkPos > 63):\n",
    "                continue\n",
    "            if self.internalChessBoard[checkPos] in self.getOppositePieces([\"Q\", \"R\"]) and (xVect == 0 or yVect == 0):\n",
    "                return False\n",
    "            elif self.internalChessBoard[checkPos] in self.getOppositePieces([\"Q\", \"B\"]) and True:\n",
    "                #TODO: check direction\n",
    "                return False\n",
    "            #else:\n",
    "                #print('Friendly pieces or empty:', self.internalChessBoard[checkPos], checkPos)\n",
    "        return True\n",
    "\n",
    "    def getOppositePieces(self, pieces):\n",
    "            \"\"\"\"\n",
    "                Takes a list of pieces and returns it in uppercase if blacks turn, or lowercase if white.\n",
    "            \"\"\"\n",
    "            return map(lambda p: p.lower() if self.whiteToMove else p.upper(), pieces)\n",
    "\n",
    "\n",
    "    def posOnBoard(self, piece):\n",
    "        \"\"\"\n",
    "            :param piece: a case _sensitiv_ one letter string. Valid 'K', 'Q', 'N', 'P', 'B', 'R', will be transformed to lowercase if it's black's turn to move\n",
    "            :return int|[int]: Returns the posistion(s) on the board for a piece, if only one pos, a int is return, else a list of int is returned\n",
    "        \"\"\"\n",
    "        correctPiece = piece if self.whiteToMove else piece.lower()\n",
    "        posistionsOnBoard = [i for i, pos in enumerate(self.internalChessBoard) if pos == correctPiece]\n",
    "        if len(posistionsOnBoard) == 1:\n",
    "            return posistionsOnBoard[0]\n",
    "        else:\n",
    "            return posistionsOnBoard\n",
    "\n",
    "\n"
   ]
  },
  {
   "cell_type": "markdown",
   "metadata": {
    "heading_collapsed": true
   },
   "source": [
    "# 3_functions"
   ]
  },
  {
   "cell_type": "code",
   "execution_count": 344,
   "metadata": {
    "hidden": true
   },
   "outputs": [],
   "source": [
    "X = []\n",
    "y = []\n",
    "converter = PgnToFen()\n",
    "\n",
    "def Convert(line, Win):\n",
    "        pgnFormat = line #\" 1. e4 e6 2. d4 b6 3. a3 Bb7 4. Nc3 Nh6 5. Bxh6 gxh6 6. Be2 Qg5 7. Bg4 h5 8. Nf3 Qg6 9. Nh4 Qg5 10. Bxh5 Qxh4 11. Qf3 Kd8 12. Qxf7 Nc6 13. Qe8#\"\n",
    "\n",
    "        converter.resetBoard()\n",
    "        #print(converter.getFullFen())\n",
    "        for move in pgnFormat.split(' '):\n",
    "            if len(move) != 0 and move[-1] != '.':\n",
    "                try:\n",
    "                    converter.move(move)\n",
    "                except :\n",
    "                    break\n",
    "                #print(move)\n",
    "                FEN_line = converter.getFullFen()\n",
    "                #Numbered_pieces(FEN_line, Win)\n",
    "        #print(converter.getFullFen())\n",
    "                X.append(Numbered_pieces(FEN_line))\n",
    "                y.append(Win)\n",
    "                \n",
    "\n",
    "def Extraction():\n",
    "    f = open(\"lichess_db_standard_rated_2013-01.pgn\", \"r\")\n",
    "    #while len(Array) != 10000:\n",
    "    for line in f.readlines(1000000):\n",
    "        \n",
    "        if line[0] == \"1\" and \"%\" not in line:\n",
    "            if line[-4:] == \"1-0\\n\":\n",
    "                #print(line)\n",
    "                Convert(line[0:-4], 'white')\n",
    "            elif line[-8:] == \"1/2-1/2\\n\":\n",
    "                Convert(line[:-8], 'draw')\n",
    "            else:\n",
    "                Convert(line[:-4], 'black')\n",
    "                \n",
    "    #print(X)\n",
    "    #print(y)\n",
    "    \n",
    "\n",
    "def Numbered_pieces(string):\n",
    "    Numbers = [\"1\",\"2\",\"3\",\"4\",\"5\",\"6\",\"7\",\"8\",\"9\",\"0\"]\n",
    "    dictionary = { \"p\" : 1, \"r\" : 2, \"n\" : 3, \"b\" : 4, \"q\" : 5, \"k\" : 6, \"P\" : -1, \"R\" : -2, \"N\" : -3, \"B\" : -4, \"Q\" : -5, \"K\" : -6 }\n",
    "    Num_grid = []\n",
    "    for piece in string:\n",
    "        if piece == \"/\":\n",
    "            pass\n",
    "        elif piece == \" \":\n",
    "            break\n",
    "        elif piece in Numbers:\n",
    "            for number in range (0,int(piece)): \n",
    "                Num_grid.append(int(0))\n",
    "        elif piece == \" \":\n",
    "            break\n",
    "        else:\n",
    "            Num_grid.append(dictionary[piece])\n",
    "    return Num_grid\n",
    "#Numbered_pieces(\"rnbqkbnr/pppppppp/8/8/8/8/PPPPPPPP/RNBQKBNR\", \"w\")\n",
    "\n",
    "\n",
    "\n",
    "Extraction()\n"
   ]
  },
  {
   "cell_type": "code",
   "execution_count": 18,
   "metadata": {
    "hidden": true
   },
   "outputs": [],
   "source": [
    "def Numbered_pieces(string):\n",
    "    Numbers = [\"1\",\"2\",\"3\",\"4\",\"5\",\"6\",\"7\",\"8\",\"9\",\"0\"]\n",
    "    dictionary = { \"p\" : 1, \"r\" : 2, \"n\" : 3, \"b\" : 4, \"q\" : 5, \"k\" : 6, \"P\" : -1, \"R\" : -2, \"N\" : -3, \"B\" : -4, \"Q\" : -5, \"K\" : -6 }\n",
    "    Num_grid = []\n",
    "    for piece in string:\n",
    "        if piece == \"/\":\n",
    "            pass\n",
    "        elif piece == \" \":\n",
    "            break\n",
    "        elif piece in Numbers:\n",
    "            for number in range (0,int(piece)): \n",
    "                Num_grid.append(int(0))\n",
    "        elif piece == \" \":\n",
    "            break\n",
    "        else:\n",
    "            Num_grid.append(dictionary[piece])\n",
    "    return Num_grid\n",
    "#Numbered_pieces(\"rnbqkbnr/pppppppp/8/8/8/8/PPPPPPPP/RNBQKBNR\", \"w\")"
   ]
  },
  {
   "cell_type": "code",
   "execution_count": 350,
   "metadata": {
    "hidden": true
   },
   "outputs": [
    {
     "name": "stdout",
     "output_type": "stream",
     "text": [
      "84194\n"
     ]
    }
   ],
   "source": [
    "print(len(X))"
   ]
  },
  {
   "cell_type": "markdown",
   "metadata": {
    "heading_collapsed": true
   },
   "source": [
    "# Classifier models"
   ]
  },
  {
   "cell_type": "code",
   "execution_count": 351,
   "metadata": {
    "hidden": true
   },
   "outputs": [],
   "source": [
    "from sklearn.ensemble import RandomForestClassifier\n",
    "from sklearn.linear_model import SGDClassifier\n",
    "from sklearn.neural_network import MLPClassifier\n",
    "import numpy"
   ]
  },
  {
   "cell_type": "code",
   "execution_count": 352,
   "metadata": {
    "hidden": true
   },
   "outputs": [
    {
     "data": {
      "text/plain": [
       "SGDClassifier(alpha=0.0001, average=False, class_weight=None,\n",
       "              early_stopping=False, epsilon=0.1, eta0=0.0, fit_intercept=True,\n",
       "              l1_ratio=0.15, learning_rate='optimal', loss='log', max_iter=1000,\n",
       "              n_iter_no_change=5, n_jobs=None, penalty='l2', power_t=0.5,\n",
       "              random_state=42, shuffle=True, tol=0.001, validation_fraction=0.1,\n",
       "              verbose=0, warm_start=False)"
      ]
     },
     "execution_count": 352,
     "metadata": {},
     "output_type": "execute_result"
    }
   ],
   "source": [
    "S_clf = SGDClassifier(random_state = 42, loss = \"log\")\n",
    "S_clf.fit(X,y)\n"
   ]
  },
  {
   "cell_type": "code",
   "execution_count": 353,
   "metadata": {
    "hidden": true
   },
   "outputs": [
    {
     "name": "stderr",
     "output_type": "stream",
     "text": [
      "C:\\ProgramData\\Anaconda3\\lib\\site-packages\\sklearn\\ensemble\\forest.py:245: FutureWarning: The default value of n_estimators will change from 10 in version 0.20 to 100 in 0.22.\n",
      "  \"10 in version 0.20 to 100 in 0.22.\", FutureWarning)\n"
     ]
    },
    {
     "data": {
      "text/plain": [
       "RandomForestClassifier(bootstrap=True, class_weight=None, criterion='gini',\n",
       "                       max_depth=None, max_features='auto', max_leaf_nodes=None,\n",
       "                       min_impurity_decrease=0.0, min_impurity_split=None,\n",
       "                       min_samples_leaf=1, min_samples_split=2,\n",
       "                       min_weight_fraction_leaf=0.0, n_estimators=10,\n",
       "                       n_jobs=None, oob_score=False, random_state=42, verbose=0,\n",
       "                       warm_start=False)"
      ]
     },
     "execution_count": 353,
     "metadata": {},
     "output_type": "execute_result"
    }
   ],
   "source": [
    "F_clf = RandomForestClassifier(random_state = 42)\n",
    "F_clf.fit(X,y)\n"
   ]
  },
  {
   "cell_type": "code",
   "execution_count": 354,
   "metadata": {
    "hidden": true
   },
   "outputs": [
    {
     "data": {
      "text/plain": [
       "MLPClassifier(activation='relu', alpha=1e-05, batch_size='auto', beta_1=0.9,\n",
       "              beta_2=0.999, early_stopping=False, epsilon=1e-08,\n",
       "              hidden_layer_sizes=(5, 2), learning_rate='constant',\n",
       "              learning_rate_init=0.001, max_iter=200, momentum=0.9,\n",
       "              n_iter_no_change=10, nesterovs_momentum=True, power_t=0.5,\n",
       "              random_state=42, shuffle=True, solver='lbfgs', tol=0.0001,\n",
       "              validation_fraction=0.1, verbose=False, warm_start=False)"
      ]
     },
     "execution_count": 354,
     "metadata": {},
     "output_type": "execute_result"
    }
   ],
   "source": [
    "M_clf = MLPClassifier(solver='lbfgs', alpha=1e-5, hidden_layer_sizes=(5, 2), random_state=42)\n",
    "M_clf.fit(X,y)"
   ]
  },
  {
   "cell_type": "code",
   "execution_count": 20,
   "metadata": {
    "hidden": true
   },
   "outputs": [
    {
     "data": {
      "text/plain": [
       "MLPClassifier(activation='relu', alpha=1e-05, batch_size='auto', beta_1=0.9,\n",
       "              beta_2=0.999, early_stopping=False, epsilon=1e-08,\n",
       "              hidden_layer_sizes=10, learning_rate='constant',\n",
       "              learning_rate_init=0.001, max_iter=200, momentum=0.9,\n",
       "              n_iter_no_change=10, nesterovs_momentum=True, power_t=0.5,\n",
       "              random_state=1, shuffle=True, solver='lbfgs', tol=0.0001,\n",
       "              validation_fraction=0.1, verbose=False, warm_start=False)"
      ]
     },
     "execution_count": 20,
     "metadata": {},
     "output_type": "execute_result"
    }
   ],
   "source": [
    "M_clf = MLPClassifier(solver='lbfgs', alpha=1e-5, hidden_layer_sizes=(10), random_state=1)\n",
    "M_clf.fit(X,y)"
   ]
  },
  {
   "cell_type": "code",
   "execution_count": 38,
   "metadata": {
    "hidden": true
   },
   "outputs": [
    {
     "data": {
      "text/plain": [
       "MLPClassifier(activation='relu', alpha=1e-05, batch_size='auto', beta_1=0.9,\n",
       "              beta_2=0.999, early_stopping=False, epsilon=1e-08,\n",
       "              hidden_layer_sizes=(10, 10), learning_rate='constant',\n",
       "              learning_rate_init=0.001, max_iter=200, momentum=0.9,\n",
       "              n_iter_no_change=10, nesterovs_momentum=True, power_t=0.5,\n",
       "              random_state=1, shuffle=True, solver='lbfgs', tol=0.0001,\n",
       "              validation_fraction=0.1, verbose=False, warm_start=False)"
      ]
     },
     "execution_count": 38,
     "metadata": {},
     "output_type": "execute_result"
    }
   ],
   "source": [
    "#10,10 neurons\n",
    "M_clf = MLPClassifier(solver='lbfgs', alpha=1e-5, hidden_layer_sizes=(10, 10), random_state=1)\n",
    "M_clf.fit(X,y)"
   ]
  },
  {
   "cell_type": "code",
   "execution_count": 43,
   "metadata": {
    "hidden": true
   },
   "outputs": [
    {
     "data": {
      "text/plain": [
       "MLPClassifier(activation='relu', alpha=1e-05, batch_size='auto', beta_1=0.9,\n",
       "              beta_2=0.999, early_stopping=False, epsilon=1e-08,\n",
       "              hidden_layer_sizes=(20, 20), learning_rate='constant',\n",
       "              learning_rate_init=0.001, max_iter=200, momentum=0.9,\n",
       "              n_iter_no_change=10, nesterovs_momentum=True, power_t=0.5,\n",
       "              random_state=1, shuffle=True, solver='lbfgs', tol=0.0001,\n",
       "              validation_fraction=0.1, verbose=False, warm_start=False)"
      ]
     },
     "execution_count": 43,
     "metadata": {},
     "output_type": "execute_result"
    }
   ],
   "source": [
    "#20, 20 neurons\n",
    "M_clf = MLPClassifier(solver='lbfgs', alpha=1e-5, hidden_layer_sizes=(20, 20), random_state=1)\n",
    "M_clf.fit(X,y)"
   ]
  },
  {
   "cell_type": "code",
   "execution_count": 46,
   "metadata": {
    "hidden": true
   },
   "outputs": [
    {
     "data": {
      "text/plain": [
       "MLPClassifier(activation='relu', alpha=1e-05, batch_size='auto', beta_1=0.9,\n",
       "              beta_2=0.999, early_stopping=False, epsilon=1e-08,\n",
       "              hidden_layer_sizes=(30, 30), learning_rate='constant',\n",
       "              learning_rate_init=0.001, max_iter=200, momentum=0.9,\n",
       "              n_iter_no_change=10, nesterovs_momentum=True, power_t=0.5,\n",
       "              random_state=1, shuffle=True, solver='lbfgs', tol=0.0001,\n",
       "              validation_fraction=0.1, verbose=False, warm_start=False)"
      ]
     },
     "execution_count": 46,
     "metadata": {},
     "output_type": "execute_result"
    }
   ],
   "source": [
    "#30, 30 neurons\n",
    "M_clf = MLPClassifier(solver='lbfgs', alpha=1e-5, hidden_layer_sizes=(30, 30), random_state=1)\n",
    "M_clf.fit(X,y)"
   ]
  },
  {
   "cell_type": "markdown",
   "metadata": {
    "heading_collapsed": true
   },
   "source": [
    "# Model test (part 1)"
   ]
  },
  {
   "cell_type": "code",
   "execution_count": 595,
   "metadata": {
    "hidden": true,
    "scrolled": true
   },
   "outputs": [
    {
     "name": "stdout",
     "output_type": "stream",
     "text": [
      "Current player: White\n",
      "♖♘♗♕♔♗♘♖\n",
      "----------------\n",
      "♙♙♙♙♙♙♙♙\n",
      "----------------\n",
      "　　　　　　　　\n",
      "----------------\n",
      "　　　　　　　　\n",
      "----------------\n",
      "　　　　　　　　\n",
      "----------------\n",
      "　　　　　　　　\n",
      "----------------\n",
      "♟♟♟♟♟♟♟♟\n",
      "----------------\n",
      "♜♞♝♛♚♝♞♜\n",
      "\n",
      "-Winner is: ['draw']\n",
      "-probability([black, draw, white]): [[0.24979887 0.4282384  0.32196273]]\n",
      "\n",
      "0.24979886837497908\n"
     ]
    }
   ],
   "source": [
    "#print(clf.predict([X[1200]]))\n",
    "#print(y[1200])\n",
    "#print(clf.predict_proba([X[1200]]))\n",
    "#print(len(X[1200]))\n",
    "#print(X[1200])\n",
    "\n",
    "#string = \"rnbqkbnr/pppppppp/8/8/8/8/8/4K3 w KQkq - 0 1\"\n",
    "#string = \"rnbqkbnr/pppppppp/8/8/4P3/8/PPPP1PPP/RNBQK2R b KQkq e3 0 1\"\n",
    "#string = \"RNBQKBNR/PPPPPPPP/8/8/8/8/pppppppp/rnbqkbnr w KQkq - 0 1\"\n",
    "#string = \"rnbqkbnr/pppppppp/8/8/8/8/PPPPPPPP/RNBQKBNR w KQkq - 0 1\"\n",
    "def Test(string):\n",
    "    for c in range(0,len(string)):\n",
    "        if string[c] == \" \":\n",
    "            if string[c + 1] == \"b\":\n",
    "                current_player = \"Black\"\n",
    "            else:\n",
    "                current_player = \"White\"\n",
    "            break\n",
    "\n",
    "    print(\"Current player:\", current_player)\n",
    "    Drawing(string)\n",
    "    print(\"\")\n",
    "    probability = S_clf.predict_proba([Numbered_pieces(string)])\n",
    "    winner = S_clf.predict([Numbered_pieces(string)])\n",
    "    print(\"\")\n",
    "    print(\"-Winner is:\",winner)\n",
    "    print(\"-probability([black, draw, white]):\", probability)\n",
    "    print(\"\")\n",
    "    print(probability[0][0])\n",
    "    #print(len(y))\n",
    "Test(\"RNBQKBNR/PPPPPPPP/8/8/8/8/pppppppp/rnbqkbnr w KQkq - 0 1\")"
   ]
  },
  {
   "cell_type": "markdown",
   "metadata": {},
   "source": [
    "# Cross Validation"
   ]
  },
  {
   "cell_type": "code",
   "execution_count": 683,
   "metadata": {},
   "outputs": [
    {
     "name": "stdout",
     "output_type": "stream",
     "text": [
      "812067\n"
     ]
    }
   ],
   "source": [
    "print(len(X_train))"
   ]
  },
  {
   "cell_type": "code",
   "execution_count": 355,
   "metadata": {},
   "outputs": [],
   "source": [
    "from sklearn.model_selection import cross_val_score\n",
    "from sklearn.model_selection import cross_val_predict\n",
    "from sklearn.metrics import confusion_matrix\n"
   ]
  },
  {
   "cell_type": "code",
   "execution_count": 382,
   "metadata": {},
   "outputs": [
    {
     "name": "stdout",
     "output_type": "stream",
     "text": [
      "SGD:\n",
      "[0.58091641 0.54970781 0.57276226]\n",
      "\n",
      "[[25692    20 12839]\n",
      " [ 1925     5  1907]\n",
      " [19688    10 22108]]\n"
     ]
    },
    {
     "ename": "NameError",
     "evalue": "name 'ScoreS' is not defined",
     "output_type": "error",
     "traceback": [
      "\u001b[1;31m---------------------------------------------------------------------------\u001b[0m",
      "\u001b[1;31mNameError\u001b[0m                                 Traceback (most recent call last)",
      "\u001b[1;32m<ipython-input-382-d49e80366a26>\u001b[0m in \u001b[0;36m<module>\u001b[1;34m\u001b[0m\n\u001b[0;32m      9\u001b[0m \u001b[0mprint\u001b[0m\u001b[1;33m(\u001b[0m\u001b[1;34m\"\"\u001b[0m\u001b[1;33m)\u001b[0m\u001b[1;33m\u001b[0m\u001b[1;33m\u001b[0m\u001b[0m\n\u001b[0;32m     10\u001b[0m \u001b[0mprint\u001b[0m\u001b[1;33m(\u001b[0m\u001b[0mM_S\u001b[0m\u001b[1;33m)\u001b[0m\u001b[1;33m\u001b[0m\u001b[1;33m\u001b[0m\u001b[0m\n\u001b[1;32m---> 11\u001b[1;33m \u001b[0mprint\u001b[0m\u001b[1;33m(\u001b[0m\u001b[1;34m\"Mean:\"\u001b[0m \u001b[1;33m(\u001b[0m\u001b[0mScoreS\u001b[0m\u001b[1;33m[\u001b[0m\u001b[1;36m0\u001b[0m\u001b[1;33m]\u001b[0m \u001b[1;33m+\u001b[0m \u001b[0mScoreS\u001b[0m\u001b[1;33m[\u001b[0m\u001b[1;36m1\u001b[0m\u001b[1;33m]\u001b[0m \u001b[1;33m+\u001b[0m \u001b[0mScore\u001b[0m\u001b[1;33m[\u001b[0m\u001b[1;36m2\u001b[0m\u001b[1;33m]\u001b[0m\u001b[1;33m)\u001b[0m\u001b[1;33m/\u001b[0m\u001b[1;36m3\u001b[0m\u001b[1;33m)\u001b[0m\u001b[1;33m\u001b[0m\u001b[1;33m\u001b[0m\u001b[0m\n\u001b[0m",
      "\u001b[1;31mNameError\u001b[0m: name 'ScoreS' is not defined"
     ]
    }
   ],
   "source": [
    "#SGD\n",
    "scoreS = cross_val_score(S_clf, X, y, cv=3, scoring=\"accuracy\")\n",
    "score_predictionS = cross_val_predict(S_clf, X, y, cv = 3)\n",
    "M_S = confusion_matrix(y, score_predictionS)\n",
    "\n",
    "\n",
    "print(\"SGD:\")\n",
    "print(scoreS)\n",
    "print(\"\")\n",
    "print(M_S)\n",
    "print(\"Mean:\" (scoreS[0] + scoreS[1] + score[2])/3)"
   ]
  },
  {
   "cell_type": "code",
   "execution_count": 388,
   "metadata": {},
   "outputs": [
    {
     "name": "stdout",
     "output_type": "stream",
     "text": [
      "Mean: 0.5677954932437449\n"
     ]
    }
   ],
   "source": [
    "print(\"Mean:\", (float(scoreS[0]) + float(scoreS[1]) + float(scoreS[2]))/3)"
   ]
  },
  {
   "cell_type": "code",
   "execution_count": 359,
   "metadata": {},
   "outputs": [
    {
     "name": "stdout",
     "output_type": "stream",
     "text": [
      "Random Forest:\n",
      "[0.54799401 0.51314852 0.51378991]\n",
      "\n",
      "[[22286   265 16000]\n",
      " [ 2102    87  1648]\n",
      " [19795   184 21827]]\n"
     ]
    }
   ],
   "source": [
    "#RandomForest\n",
    "scoreF = cross_val_score(F_clf, X, y, cv=3, scoring=\"accuracy\")\n",
    "score_predictionF = cross_val_predict(F_clf, X, y, cv = 3)\n",
    "M_F = confusion_matrix(y, score_predictionF)\n",
    "\n",
    "print(\"Random Forest:\")\n",
    "print(scoreF)\n",
    "print(\"\")\n",
    "print(M_F)\n",
    "print(\"Mean:\" (ScoreS[0] + ScoreS[1] + Score[2])/3)"
   ]
  },
  {
   "cell_type": "code",
   "execution_count": 389,
   "metadata": {},
   "outputs": [
    {
     "name": "stdout",
     "output_type": "stream",
     "text": [
      "Mean: 0.5249774801878062\n"
     ]
    }
   ],
   "source": [
    "print(\"Mean:\", (float(scoreF[0]) + float(scoreF[1]) + float(scoreF[2]))/3)"
   ]
  },
  {
   "cell_type": "code",
   "execution_count": 360,
   "metadata": {},
   "outputs": [
    {
     "name": "stdout",
     "output_type": "stream",
     "text": [
      "MLP:\n",
      "[0.58244851 0.56909208 0.589189  ]\n",
      "['white' 'white' 'white' ... 'white' 'white' 'white']\n",
      "\n",
      "[[20689    58 17804]\n",
      " [ 1882    32  1923]\n",
      " [13582    92 28132]]\n"
     ]
    }
   ],
   "source": [
    "#MLP\n",
    "scoreM = cross_val_score(M_clf, X, y, cv=3, scoring=\"accuracy\")\n",
    "score_predictionM = cross_val_predict(M_clf, X, y, cv = 3)\n",
    "M_M = confusion_matrix(y, score_predictionM)\n",
    "\n",
    "print(\"MLP:\")\n",
    "print(scoreM)\n",
    "print(score_predictionM)\n",
    "print(\"\")\n",
    "print(M_M)\n",
    "print(\"Mean:\" (ScoreS[0] + ScoreS[1] + Score[2])/3)"
   ]
  },
  {
   "cell_type": "code",
   "execution_count": 391,
   "metadata": {},
   "outputs": [
    {
     "name": "stdout",
     "output_type": "stream",
     "text": [
      "Mean: 0.5802431953507645\n"
     ]
    }
   ],
   "source": [
    "print(\"Mean:\", (float(scoreM[0]) + float(scoreM[1]) + float(scoreM[2]))/3)"
   ]
  },
  {
   "cell_type": "code",
   "execution_count": 361,
   "metadata": {},
   "outputs": [
    {
     "name": "stdout",
     "output_type": "stream",
     "text": [
      "56.77958049267169\n",
      "52.49780269377865\n",
      "58.02432477373684\n"
     ]
    }
   ],
   "source": [
    "def Percantage_correct(Conf_Matrix):\n",
    "    MAT = Conf_Matrix\n",
    "    Sum_Diagonals = MAT[0][0] + MAT[1][1] + MAT[2][2]\n",
    "    Sum_Off = MAT[0][1] + MAT[0][2] + MAT[1][0] + MAT[1][2] + MAT[2][0] + MAT[2][1]\n",
    "    Total = Sum_Diagonals + Sum_Off\n",
    "    #print(Sum_Diagonals)\n",
    "    #print(Sum_Off)\n",
    "    Percantage_correct = (Sum_Diagonals / Total)*100\n",
    "    print(Percantage_correct)\n",
    "Percantage_correct(M_S)\n",
    "Percantage_correct(M_F)\n",
    "Percantage_correct(M_M)"
   ]
  },
  {
   "cell_type": "code",
   "execution_count": 404,
   "metadata": {},
   "outputs": [
    {
     "name": "stdout",
     "output_type": "stream",
     "text": [
      "f1_score_black: 0.5984904957137532\n",
      "f1_score_draw: 0.0025826446280991736\n",
      "f1_score_white: 0.5621154335113145\n",
      "0.38772952461772237\n",
      "\n",
      "f1_score_black: 0.5387386080692339\n",
      "f1_score_draw: 0.03978961811113652\n",
      "f1_score_white: 0.5370750851982629\n",
      "0.3718677704595444\n",
      "\n",
      "f1_score_black: 0.5538926965088884\n",
      "f1_score_draw: 0.015924359293356557\n",
      "f1_score_white: 0.6274912173088719\n",
      "0.3991027577037056\n"
     ]
    },
    {
     "data": {
      "text/plain": [
       "(0.5538926965088884, 0.015924359293356557, 0.6274912173088719)"
      ]
     },
     "execution_count": 404,
     "metadata": {},
     "output_type": "execute_result"
    }
   ],
   "source": [
    "def F1_score(Model):\n",
    "    f1_score_black = (Model[0][0]) / (Model[0][0] + (Model[0][1] + Model[0][2] + Model[1][0] + Model[2][0])/2) \n",
    "    f1_score_draw = (Model[1][1]) / (Model[1][1] + (Model[0][1] + Model[2][1] + Model[1][0] + Model[1][2])/2)\n",
    "    f1_score_white = (Model[2][2]) / (Model[2][2] + (Model[0][2] + Model[1][2] + Model[2][0] + Model[2][1])/2)\n",
    "    \n",
    "    print(\"f1_score_black:\", f1_score_black)\n",
    "    print(\"f1_score_draw:\", f1_score_draw)\n",
    "    print(\"f1_score_white:\", f1_score_white)\n",
    "    print((f1_score_black + f1_score_draw + f1_score_white)/3)\n",
    "    \n",
    "    return f1_score_black, f1_score_draw, f1_score_white\n",
    "    \n",
    "\n",
    "F1_score(M_S)\n",
    "print(\"\")\n",
    "F1_score(M_F)\n",
    "print(\"\")\n",
    "F1_score(M_M)"
   ]
  },
  {
   "cell_type": "code",
   "execution_count": 490,
   "metadata": {},
   "outputs": [
    {
     "name": "stdout",
     "output_type": "stream",
     "text": [
      "f1_score_black: 0.5984904957137532\n",
      "f1_score_draw: 0.0025826446280991736\n",
      "f1_score_white: 0.5621154335113145\n",
      "0.38772952461772237\n",
      "f1_score_black: 0.5387386080692339\n",
      "f1_score_draw: 0.03978961811113652\n",
      "f1_score_white: 0.5370750851982629\n",
      "0.3718677704595444\n",
      "f1_score_black: 0.5538926965088884\n",
      "f1_score_draw: 0.015924359293356557\n",
      "f1_score_white: 0.6274912173088719\n",
      "0.3991027577037056\n"
     ]
    },
    {
     "data": {
      "image/png": "[encoded data removed]",
      "text/plain": [
       "<Figure size 432x288 with 1 Axes>"
      ]
     },
     "metadata": {
      "needs_background": "light"
     },
     "output_type": "display_data"
    }
   ],
   "source": [
    "import matplotlib.pyplot as plt\n",
    "import numpy as np\n",
    "\n",
    "objects = ['Random forest','Log regression', \"MLP\"]\n",
    "\n",
    "ax = plt.subplot(111)\n",
    "index = np.arange(len(objects))\n",
    "\n",
    "blackS, drawS, whiteS = F1_score(M_S)\n",
    "S_values = [blackS,drawS,whiteS]\n",
    "\n",
    "blackF, drawF, whiteF = F1_score(M_F) \n",
    "F_values = [blackF,drawF,whiteF]\n",
    "\n",
    "blackM, drawM, whiteM = F1_score(M_M)\n",
    "M_values = [blackM,drawM,whiteM]\n",
    "\n",
    "Array = [[blackF, blackS, blackM],[drawF, drawS, drawM,], [whiteF, whiteS, whiteM]]\n",
    "\n",
    "\n",
    "rects1 = plt.bar(index, Array[1], width = 0.25, color = \"c\" ,label = \"draw\", zorder = 3)\n",
    "\n",
    "rects2 = plt.bar(index + 0.25, Array[0], width = 0.25, color = \"#d18b47\" ,label = \"black\", zorder = 3)\n",
    "\n",
    "rects3 = plt.bar(index + 0.5, Array[2], width = 0.25, color = \"#ffce9e\" ,label = \"white\", zorder = 3)\n",
    "\n",
    "plt.ylabel(\"F1 score\")\n",
    "plt.title(\"F1 score summary\")\n",
    "plt.xticks(index + 0.25, objects)\n",
    "plt.legend()\n",
    "plt.ylim(top=1)\n",
    "\n",
    "plt.grid(zorder = 0, axis = \"y\", alpha = 0.2)\n",
    "\n",
    "\n",
    "plt.show()"
   ]
  },
  {
   "cell_type": "markdown",
   "metadata": {},
   "source": [
    "# Plotting Confusion matrices"
   ]
  },
  {
   "cell_type": "code",
   "execution_count": 676,
   "metadata": {},
   "outputs": [
    {
     "name": "stdout",
     "output_type": "stream",
     "text": [
      "[[0.43515065571907185, 1.0824912453520532e-05, 0.5648385193684746], [0.35966124750433315, 6.58197854274995e-05, 0.6402729327102393], [0.20690480388946267, 3.0228984558027055e-05, 0.7930649671259793]]\n",
      "\n",
      "[[0.5630524088136437, 0.008781710227918531, 0.4281658809584378], [0.5048377542289212, 0.05033019592356129, 0.4448320498475175], [0.4517495024812958, 0.00930800816182583, 0.5389424893568784]]\n",
      "\n",
      "[[0.5624651573130403, 0.0006034888692837696, 0.436931353817676], [0.4348932622479651, 0.0030715899866166434, 0.5620351477654183], [0.34737889513061443, 0.0004383202760913923, 0.6521827845932942]]\n"
     ]
    }
   ],
   "source": [
    "New = []\n",
    "for row in M_S:\n",
    "    Total = row[0] + row[1] + row[2]\n",
    "    New2 = []\n",
    "    for num in row:\n",
    "        New2.append(num/Total)\n",
    "    New.append(New2)\n",
    "\n",
    "print(New)\n",
    "M_Snew = New\n",
    "\n",
    "print(\"\")\n",
    "\n",
    "New = []\n",
    "for row in M_F:\n",
    "    Total = row[0] + row[1] + row[2]\n",
    "    New2 = []\n",
    "    for num in row:\n",
    "        New2.append(num/Total)\n",
    "    New.append(New2)\n",
    "\n",
    "print(New)\n",
    "M_Fnew = New\n",
    "\n",
    "print(\"\")\n",
    "\n",
    "New = []\n",
    "for row in M_M:\n",
    "    Total = row[0] + row[1] + row[2]\n",
    "    New2 = []\n",
    "    for num in row:\n",
    "        New2.append(num/Total)\n",
    "    New.append(New2)\n",
    "\n",
    "print(New)\n",
    "M_Mnew = New"
   ]
  },
  {
   "cell_type": "code",
   "execution_count": 677,
   "metadata": {},
   "outputs": [
    {
     "name": "stdout",
     "output_type": "stream",
     "text": [
      "SGD:\n"
     ]
    },
    {
     "data": {
      "image/png": "[encoded data removed]",
      "text/plain": [
       "<Figure size 288x288 with 1 Axes>"
      ]
     },
     "metadata": {
      "needs_background": "light"
     },
     "output_type": "display_data"
    },
    {
     "name": "stdout",
     "output_type": "stream",
     "text": [
      "Random_Forest:\n"
     ]
    },
    {
     "data": {
      "image/png": "[encoded data removed]",
      "text/plain": [
       "<Figure size 288x288 with 1 Axes>"
      ]
     },
     "metadata": {
      "needs_background": "light"
     },
     "output_type": "display_data"
    },
    {
     "name": "stdout",
     "output_type": "stream",
     "text": [
      "MLP:\n"
     ]
    },
    {
     "data": {
      "image/png": "[encoded data removed]",
      "text/plain": [
       "<Figure size 288x288 with 1 Axes>"
      ]
     },
     "metadata": {
      "needs_background": "light"
     },
     "output_type": "display_data"
    }
   ],
   "source": [
    "import matplotlib\n",
    "import matplotlib.pyplot as plt\n",
    "%matplotlib inline\n",
    "\n",
    "print(\"SGD:\")\n",
    "plt.matshow(M_S, cmap=plt.cm.gray)\n",
    "plt.show()\n",
    "\n",
    "print(\"Random_Forest:\")\n",
    "plt.matshow(M_F, cmap=plt.cm.gray)\n",
    "plt.show()\n",
    "\n",
    "print(\"MLP:\")\n",
    "plt.matshow(M_M, cmap=plt.cm.gray)\n",
    "plt.show()"
   ]
  },
  {
   "cell_type": "code",
   "execution_count": 678,
   "metadata": {},
   "outputs": [
    {
     "name": "stdout",
     "output_type": "stream",
     "text": [
      "SGD:\n"
     ]
    },
    {
     "data": {
      "image/png": "[encoded data removed]",
      "text/plain": [
       "<Figure size 288x288 with 1 Axes>"
      ]
     },
     "metadata": {
      "needs_background": "light"
     },
     "output_type": "display_data"
    },
    {
     "name": "stdout",
     "output_type": "stream",
     "text": [
      "Random_Forest:\n"
     ]
    },
    {
     "data": {
      "image/png": "[encoded data removed]",
      "text/plain": [
       "<Figure size 288x288 with 1 Axes>"
      ]
     },
     "metadata": {
      "needs_background": "light"
     },
     "output_type": "display_data"
    },
    {
     "name": "stdout",
     "output_type": "stream",
     "text": [
      "MLP:\n"
     ]
    },
    {
     "data": {
      "image/png": "[encoded data removed]",
      "text/plain": [
       "<Figure size 288x288 with 1 Axes>"
      ]
     },
     "metadata": {
      "needs_background": "light"
     },
     "output_type": "display_data"
    }
   ],
   "source": [
    "import matplotlib\n",
    "import matplotlib.pyplot as plt\n",
    "%matplotlib inline\n",
    "\n",
    "print(\"SGD:\")\n",
    "plt.matshow(M_Snew, cmap=plt.cm.gray,interpolation='none', vmin=0, vmax=1 )\n",
    "plt.show()\n",
    "\n",
    "\n",
    "print(\"Random_Forest:\")\n",
    "plt.matshow(M_Fnew, cmap=plt.cm.gray, interpolation='none', vmin=0, vmax=1)\n",
    "plt.show()\n",
    "\n",
    "print(\"MLP:\")\n",
    "plt.matshow(M_Mnew, cmap=plt.cm.gray, interpolation='none', vmin=0, vmax=1)\n",
    "plt.show()\n",
    "\n"
   ]
  },
  {
   "cell_type": "markdown",
   "metadata": {},
   "source": [
    "# Chess"
   ]
  },
  {
   "cell_type": "code",
   "execution_count": 497,
   "metadata": {},
   "outputs": [],
   "source": [
    "import chess\n",
    "board = chess.Board()"
   ]
  },
  {
   "cell_type": "code",
   "execution_count": 503,
   "metadata": {},
   "outputs": [],
   "source": [
    "def Trials(board, turn, clf):\n",
    "    Cboard = board\n",
    "    highest = 0\n",
    "    index = None\n",
    "    for move in board.legal_moves:\n",
    "        Cboard.push(move)\n",
    "        recorded = Numbered_pieces(Cboard.fen())\n",
    "        if turn == True:\n",
    "            prob = clf.predict_proba([recorded])[0][2]\n",
    "        else:\n",
    "            prob = clf.predict_proba([recorded])[0][0]\n",
    "        if prob > highest or index == None:\n",
    "            highest = prob\n",
    "            index = move\n",
    "        Cboard.pop()\n",
    "    #print(highest)\n",
    "    #print(index)\n",
    "    return index"
   ]
  },
  {
   "cell_type": "code",
   "execution_count": 504,
   "metadata": {},
   "outputs": [],
   "source": [
    "import random\n",
    "def Make_move(board, AI_is_white):\n",
    "    \n",
    "    if board.turn == AI_is_white:\n",
    "        Best_move = Trials(board, AI_is_white, M_clf)\n",
    "        board.push(Best_move)\n",
    "\n",
    "    else:\n",
    "        board.push(random.choice(list(board.legal_moves)))\n",
    "\n",
    "    \n",
    "    #else: \n",
    "        #Best_move = Trials_F(board)\n",
    "        #board.push(Best_move)"
   ]
  },
  {
   "cell_type": "code",
   "execution_count": 411,
   "metadata": {},
   "outputs": [],
   "source": [
    "#AI vs AI\n",
    "import random\n",
    "def Make_move(board, AI_is_white):\n",
    "    \n",
    "    if board.turn == AI_is_white:\n",
    "        Best_move = Trials_M(board, AI_is_white)\n",
    "        board.push(Best_move)\n",
    "\n",
    "    else:\n",
    "        Best_move = Trials_F(board, AI_is_white)\n",
    "        board.push(Best_move)\n",
    "\n",
    "    \n",
    "    #else: \n",
    "        #Best_move = Trials_F(board)\n",
    "        #board.push(Best_move)"
   ]
  },
  {
   "cell_type": "code",
   "execution_count": 496,
   "metadata": {},
   "outputs": [],
   "source": [
    "import chess.svg\n",
    "from IPython.display import display"
   ]
  },
  {
   "cell_type": "code",
   "execution_count": 509,
   "metadata": {},
   "outputs": [
    {
     "name": "stdout",
     "output_type": "stream",
     "text": [
      "\n",
      "Number of mathces: 100\n",
      "black_wins: 16\n",
      "white_wins: 0\n",
      "draws: 84\n",
      "Percantage win: 16.0\n"
     ]
    }
   ],
   "source": [
    "N_matches = 0\n",
    "white_win = black_win = draw = 0\n",
    "while N_matches != 100:\n",
    "    board = chess.Board()\n",
    "    while not board.is_game_over():\n",
    "        Make_move(board, False)\n",
    "    #display(chess.svg.board(board=board))\n",
    "    if board.result() == \"1-0\":\n",
    "        white_win += 1\n",
    "    elif board.result() == \"0-1\":\n",
    "        black_win += 1\n",
    "    else:\n",
    "        draw += 1\n",
    "        \n",
    "    N_matches += 1\n",
    "   # print(board.result())\n",
    "    \n",
    "print(\"\")\n",
    "print(\"Number of mathces:\", N_matches)\n",
    "print(\"black_wins:\", black_win)\n",
    "print(\"white_wins:\", white_win)\n",
    "print(\"draws:\", draw)\n",
    "Percantage_win = (black_win/N_matches)*100 \n",
    "print(\"Percantage win:\",Percantage_win)\n",
    "\n",
    "\n",
    "#print(black_win, draw, white_win)\n",
    "\n",
    "\n"
   ]
  },
  {
   "cell_type": "code",
   "execution_count": 506,
   "metadata": {},
   "outputs": [],
   "source": [
    "board = chess.Board()"
   ]
  },
  {
   "cell_type": "code",
   "execution_count": 342,
   "metadata": {},
   "outputs": [
    {
     "data": {
      "image/svg+xml": [
       "<svg version=\"1.1\" viewBox=\"0 0 400 400\" xmlns=\"http://www.w3.org/2000/svg\" xmlns:xlink=\"http://www.w3.org/1999/xlink\"><defs><g class=\"white pawn\" id=\"white-pawn\"><path d=\"M22 9c-2.21 0-4 1.79-4 4 0 .89.29 1.71.78 2.38-1.95 1.12-3.28 3.21-3.28 5.62 0 2.03.94 3.84 2.41 5.03-3 1.06-7.41 5.55-7.41 13.47h23c0-7.92-4.41-12.41-7.41-13.47 1.47-1.19 2.41-3 2.41-5.03 0-2.41-1.33-4.5-3.28-5.62.49-.67.78-1.49.78-2.38 0-2.21-1.79-4-4-4z\" fill=\"#fff\" stroke=\"#000\" stroke-linecap=\"round\" stroke-width=\"1.5\" /></g><g class=\"white king\" fill=\"none\" fill-rule=\"evenodd\" id=\"white-king\" stroke=\"#000\" stroke-linecap=\"round\" stroke-linejoin=\"round\" stroke-width=\"1.5\"><path d=\"M22.5 11.63V6M20 8h5\" stroke-linejoin=\"miter\" /><path d=\"M22.5 25s4.5-7.5 3-10.5c0 0-1-2.5-3-2.5s-3 2.5-3 2.5c-1.5 3 3 10.5 3 10.5\" fill=\"#fff\" stroke-linecap=\"butt\" stroke-linejoin=\"miter\" /><path d=\"M11.5 37c5.5 3.5 15.5 3.5 21 0v-7s9-4.5 6-10.5c-4-6.5-13.5-3.5-16 4V27v-3.5c-3.5-7.5-13-10.5-16-4-3 6 5 10 5 10V37z\" fill=\"#fff\" /><path d=\"M11.5 30c5.5-3 15.5-3 21 0m-21 3.5c5.5-3 15.5-3 21 0m-21 3.5c5.5-3 15.5-3 21 0\" /></g><g class=\"black pawn\" id=\"black-pawn\"><path d=\"M22 9c-2.21 0-4 1.79-4 4 0 .89.29 1.71.78 2.38-1.95 1.12-3.28 3.21-3.28 5.62 0 2.03.94 3.84 2.41 5.03-3 1.06-7.41 5.55-7.41 13.47h23c0-7.92-4.41-12.41-7.41-13.47 1.47-1.19 2.41-3 2.41-5.03 0-2.41-1.33-4.5-3.28-5.62.49-.67.78-1.49.78-2.38 0-2.21-1.79-4-4-4z\" stroke=\"#000\" stroke-linecap=\"round\" stroke-width=\"1.5\" /></g><g class=\"black rook\" fill=\"#000\" fill-rule=\"evenodd\" id=\"black-rook\" stroke=\"#000\" stroke-linecap=\"round\" stroke-linejoin=\"round\" stroke-width=\"1.5\"><path d=\"M9 39h27v-3H9v3zM12.5 32l1.5-2.5h17l1.5 2.5h-20zM12 36v-4h21v4H12z\" stroke-linecap=\"butt\" /><path d=\"M14 29.5v-13h17v13H14z\" stroke-linecap=\"butt\" stroke-linejoin=\"miter\" /><path d=\"M14 16.5L11 14h23l-3 2.5H14zM11 14V9h4v2h5V9h5v2h5V9h4v5H11z\" stroke-linecap=\"butt\" /><path d=\"M12 35.5h21M13 31.5h19M14 29.5h17M14 16.5h17M11 14h23\" fill=\"none\" stroke=\"#fff\" stroke-linejoin=\"miter\" stroke-width=\"1\" /></g><g class=\"black queen\" fill=\"#000\" fill-rule=\"evenodd\" id=\"black-queen\" stroke=\"#000\" stroke-linecap=\"round\" stroke-linejoin=\"round\" stroke-width=\"1.5\"><g fill=\"#000\" stroke=\"none\"><circle cx=\"6\" cy=\"12\" r=\"2.75\" /><circle cx=\"14\" cy=\"9\" r=\"2.75\" /><circle cx=\"22.5\" cy=\"8\" r=\"2.75\" /><circle cx=\"31\" cy=\"9\" r=\"2.75\" /><circle cx=\"39\" cy=\"12\" r=\"2.75\" /></g><path d=\"M9 26c8.5-1.5 21-1.5 27 0l2.5-12.5L31 25l-.3-14.1-5.2 13.6-3-14.5-3 14.5-5.2-13.6L14 25 6.5 13.5 9 26zM9 26c0 2 1.5 2 2.5 4 1 1.5 1 1 .5 3.5-1.5 1-1.5 2.5-1.5 2.5-1.5 1.5.5 2.5.5 2.5 6.5 1 16.5 1 23 0 0 0 1.5-1 0-2.5 0 0 .5-1.5-1-2.5-.5-2.5-.5-2 .5-3.5 1-2 2.5-2 2.5-4-8.5-1.5-18.5-1.5-27 0z\" stroke-linecap=\"butt\" /><path d=\"M11 38.5a35 35 1 0 0 23 0\" fill=\"none\" stroke-linecap=\"butt\" /><path d=\"M11 29a35 35 1 0 1 23 0M12.5 31.5h20M11.5 34.5a35 35 1 0 0 22 0M10.5 37.5a35 35 1 0 0 24 0\" fill=\"none\" stroke=\"#fff\" /></g><g class=\"black king\" fill=\"none\" fill-rule=\"evenodd\" id=\"black-king\" stroke=\"#000\" stroke-linecap=\"round\" stroke-linejoin=\"round\" stroke-width=\"1.5\"><path d=\"M22.5 11.63V6\" stroke-linejoin=\"miter\" /><path d=\"M22.5 25s4.5-7.5 3-10.5c0 0-1-2.5-3-2.5s-3 2.5-3 2.5c-1.5 3 3 10.5 3 10.5\" fill=\"#000\" stroke-linecap=\"butt\" stroke-linejoin=\"miter\" /><path d=\"M11.5 37c5.5 3.5 15.5 3.5 21 0v-7s9-4.5 6-10.5c-4-6.5-13.5-3.5-16 4V27v-3.5c-3.5-7.5-13-10.5-16-4-3 6 5 10 5 10V37z\" fill=\"#000\" /><path d=\"M20 8h5\" stroke-linejoin=\"miter\" /><path d=\"M32 29.5s8.5-4 6.03-9.65C34.15 14 25 18 22.5 24.5l.01 2.1-.01-2.1C20 18 9.906 14 6.997 19.85c-2.497 5.65 4.853 9 4.853 9M11.5 30c5.5-3 15.5-3 21 0m-21 3.5c5.5-3 15.5-3 21 0m-21 3.5c5.5-3 15.5-3 21 0\" stroke=\"#fff\" /></g></defs><rect class=\"square dark a1\" fill=\"#d18b47\" height=\"45\" stroke=\"none\" width=\"45\" x=\"20\" y=\"335\" /><use transform=\"translate(20, 335)\" xlink:href=\"#black-queen\" /><rect class=\"square light b1\" fill=\"#ffce9e\" height=\"45\" stroke=\"none\" width=\"45\" x=\"65\" y=\"335\" /><rect class=\"square dark c1\" fill=\"#d18b47\" height=\"45\" stroke=\"none\" width=\"45\" x=\"110\" y=\"335\" /><rect class=\"square light d1\" fill=\"#ffce9e\" height=\"45\" stroke=\"none\" width=\"45\" x=\"155\" y=\"335\" /><rect class=\"square dark e1\" fill=\"#d18b47\" height=\"45\" stroke=\"none\" width=\"45\" x=\"200\" y=\"335\" /><rect class=\"square light f1\" fill=\"#ffce9e\" height=\"45\" stroke=\"none\" width=\"45\" x=\"245\" y=\"335\" /><rect class=\"square dark g1\" fill=\"#d18b47\" height=\"45\" stroke=\"none\" width=\"45\" x=\"290\" y=\"335\" /><rect class=\"square light h1\" fill=\"#ffce9e\" height=\"45\" stroke=\"none\" width=\"45\" x=\"335\" y=\"335\" /><rect class=\"square light a2\" fill=\"#ffce9e\" height=\"45\" stroke=\"none\" width=\"45\" x=\"20\" y=\"290\" /><rect class=\"square dark b2\" fill=\"#d18b47\" height=\"45\" stroke=\"none\" width=\"45\" x=\"65\" y=\"290\" /><use transform=\"translate(65, 290)\" xlink:href=\"#black-pawn\" /><rect class=\"square light c2\" fill=\"#ffce9e\" height=\"45\" stroke=\"none\" width=\"45\" x=\"110\" y=\"290\" /><rect class=\"square dark d2\" fill=\"#d18b47\" height=\"45\" stroke=\"none\" width=\"45\" x=\"155\" y=\"290\" /><rect class=\"square light e2\" fill=\"#ffce9e\" height=\"45\" stroke=\"none\" width=\"45\" x=\"200\" y=\"290\" /><rect class=\"square dark f2\" fill=\"#d18b47\" height=\"45\" stroke=\"none\" width=\"45\" x=\"245\" y=\"290\" /><rect class=\"square light g2\" fill=\"#ffce9e\" height=\"45\" stroke=\"none\" width=\"45\" x=\"290\" y=\"290\" /><use transform=\"translate(290, 290)\" xlink:href=\"#white-king\" /><rect class=\"square dark h2\" fill=\"#d18b47\" height=\"45\" stroke=\"none\" width=\"45\" x=\"335\" y=\"290\" /><rect class=\"square dark a3\" fill=\"#d18b47\" height=\"45\" stroke=\"none\" width=\"45\" x=\"20\" y=\"245\" /><rect class=\"square light b3\" fill=\"#ffce9e\" height=\"45\" stroke=\"none\" width=\"45\" x=\"65\" y=\"245\" /><rect class=\"square dark c3\" fill=\"#d18b47\" height=\"45\" stroke=\"none\" width=\"45\" x=\"110\" y=\"245\" /><rect class=\"square light d3\" fill=\"#ffce9e\" height=\"45\" stroke=\"none\" width=\"45\" x=\"155\" y=\"245\" /><rect class=\"square dark e3\" fill=\"#d18b47\" height=\"45\" stroke=\"none\" width=\"45\" x=\"200\" y=\"245\" /><rect class=\"square light f3\" fill=\"#ffce9e\" height=\"45\" stroke=\"none\" width=\"45\" x=\"245\" y=\"245\" /><rect class=\"square dark g3\" fill=\"#d18b47\" height=\"45\" stroke=\"none\" width=\"45\" x=\"290\" y=\"245\" /><rect class=\"square light h3\" fill=\"#ffce9e\" height=\"45\" stroke=\"none\" width=\"45\" x=\"335\" y=\"245\" /><rect class=\"square light a4\" fill=\"#ffce9e\" height=\"45\" stroke=\"none\" width=\"45\" x=\"20\" y=\"200\" /><rect class=\"square dark b4\" fill=\"#d18b47\" height=\"45\" stroke=\"none\" width=\"45\" x=\"65\" y=\"200\" /><rect class=\"square light c4\" fill=\"#ffce9e\" height=\"45\" stroke=\"none\" width=\"45\" x=\"110\" y=\"200\" /><rect class=\"square dark d4\" fill=\"#d18b47\" height=\"45\" stroke=\"none\" width=\"45\" x=\"155\" y=\"200\" /><use transform=\"translate(155, 200)\" xlink:href=\"#black-pawn\" /><rect class=\"square light e4\" fill=\"#ffce9e\" height=\"45\" stroke=\"none\" width=\"45\" x=\"200\" y=\"200\" /><rect class=\"square dark f4\" fill=\"#d18b47\" height=\"45\" stroke=\"none\" width=\"45\" x=\"245\" y=\"200\" /><rect class=\"square light g4\" fill=\"#ffce9e\" height=\"45\" stroke=\"none\" width=\"45\" x=\"290\" y=\"200\" /><rect class=\"square dark h4\" fill=\"#d18b47\" height=\"45\" stroke=\"none\" width=\"45\" x=\"335\" y=\"200\" /><rect class=\"square dark a5\" fill=\"#d18b47\" height=\"45\" stroke=\"none\" width=\"45\" x=\"20\" y=\"155\" /><rect class=\"square light b5\" fill=\"#ffce9e\" height=\"45\" stroke=\"none\" width=\"45\" x=\"65\" y=\"155\" /><rect class=\"square dark c5\" fill=\"#d18b47\" height=\"45\" stroke=\"none\" width=\"45\" x=\"110\" y=\"155\" /><rect class=\"square light d5\" fill=\"#ffce9e\" height=\"45\" stroke=\"none\" width=\"45\" x=\"155\" y=\"155\" /><rect class=\"square dark e5\" fill=\"#d18b47\" height=\"45\" stroke=\"none\" width=\"45\" x=\"200\" y=\"155\" /><rect class=\"square light f5\" fill=\"#ffce9e\" height=\"45\" stroke=\"none\" width=\"45\" x=\"245\" y=\"155\" /><use transform=\"translate(245, 155)\" xlink:href=\"#white-pawn\" /><rect class=\"square dark g5\" fill=\"#d18b47\" height=\"45\" stroke=\"none\" width=\"45\" x=\"290\" y=\"155\" /><rect class=\"square light h5\" fill=\"#ffce9e\" height=\"45\" stroke=\"none\" width=\"45\" x=\"335\" y=\"155\" /><rect class=\"square light a6\" fill=\"#ffce9e\" height=\"45\" stroke=\"none\" width=\"45\" x=\"20\" y=\"110\" /><rect class=\"square dark b6\" fill=\"#d18b47\" height=\"45\" stroke=\"none\" width=\"45\" x=\"65\" y=\"110\" /><rect class=\"square light c6\" fill=\"#ffce9e\" height=\"45\" stroke=\"none\" width=\"45\" x=\"110\" y=\"110\" /><rect class=\"square dark d6\" fill=\"#d18b47\" height=\"45\" stroke=\"none\" width=\"45\" x=\"155\" y=\"110\" /><rect class=\"square light e6\" fill=\"#ffce9e\" height=\"45\" stroke=\"none\" width=\"45\" x=\"200\" y=\"110\" /><rect class=\"square dark f6\" fill=\"#d18b47\" height=\"45\" stroke=\"none\" width=\"45\" x=\"245\" y=\"110\" /><rect class=\"square light g6\" fill=\"#ffce9e\" height=\"45\" stroke=\"none\" width=\"45\" x=\"290\" y=\"110\" /><rect class=\"square dark h6\" fill=\"#d18b47\" height=\"45\" stroke=\"none\" width=\"45\" x=\"335\" y=\"110\" /><rect class=\"square dark a7\" fill=\"#d18b47\" height=\"45\" stroke=\"none\" width=\"45\" x=\"20\" y=\"65\" /><rect class=\"square light b7\" fill=\"#ffce9e\" height=\"45\" stroke=\"none\" width=\"45\" x=\"65\" y=\"65\" /><rect class=\"square dark c7\" fill=\"#d18b47\" height=\"45\" stroke=\"none\" width=\"45\" x=\"110\" y=\"65\" /><rect class=\"square light d7\" fill=\"#ffce9e\" height=\"45\" stroke=\"none\" width=\"45\" x=\"155\" y=\"65\" /><rect class=\"square dark e7\" fill=\"#d18b47\" height=\"45\" stroke=\"none\" width=\"45\" x=\"200\" y=\"65\" /><rect class=\"square light f7\" fill=\"#ffce9e\" height=\"45\" stroke=\"none\" width=\"45\" x=\"245\" y=\"65\" /><rect class=\"square dark g7\" fill=\"#d18b47\" height=\"45\" stroke=\"none\" width=\"45\" x=\"290\" y=\"65\" /><rect class=\"square light h7\" fill=\"#ffce9e\" height=\"45\" stroke=\"none\" width=\"45\" x=\"335\" y=\"65\" /><rect class=\"square light a8\" fill=\"#ffce9e\" height=\"45\" stroke=\"none\" width=\"45\" x=\"20\" y=\"20\" /><use transform=\"translate(20, 20)\" xlink:href=\"#black-rook\" /><rect class=\"square dark b8\" fill=\"#d18b47\" height=\"45\" stroke=\"none\" width=\"45\" x=\"65\" y=\"20\" /><rect class=\"square light c8\" fill=\"#ffce9e\" height=\"45\" stroke=\"none\" width=\"45\" x=\"110\" y=\"20\" /><rect class=\"square dark d8\" fill=\"#d18b47\" height=\"45\" stroke=\"none\" width=\"45\" x=\"155\" y=\"20\" /><rect class=\"square light e8\" fill=\"#ffce9e\" height=\"45\" stroke=\"none\" width=\"45\" x=\"200\" y=\"20\" /><rect class=\"square dark f8\" fill=\"#d18b47\" height=\"45\" stroke=\"none\" width=\"45\" x=\"245\" y=\"20\" /><rect class=\"square light g8\" fill=\"#ffce9e\" height=\"45\" stroke=\"none\" width=\"45\" x=\"290\" y=\"20\" /><use transform=\"translate(290, 20)\" xlink:href=\"#black-king\" /><rect class=\"square dark h8\" fill=\"#d18b47\" height=\"45\" stroke=\"none\" width=\"45\" x=\"335\" y=\"20\" /><text alignment-baseline=\"middle\" font-size=\"14\" text-anchor=\"middle\" x=\"42\" y=\"10\">a</text><text alignment-baseline=\"middle\" font-size=\"14\" text-anchor=\"middle\" x=\"42\" y=\"390\">a</text><text alignment-baseline=\"middle\" font-size=\"14\" text-anchor=\"middle\" x=\"87\" y=\"10\">b</text><text alignment-baseline=\"middle\" font-size=\"14\" text-anchor=\"middle\" x=\"87\" y=\"390\">b</text><text alignment-baseline=\"middle\" font-size=\"14\" text-anchor=\"middle\" x=\"132\" y=\"10\">c</text><text alignment-baseline=\"middle\" font-size=\"14\" text-anchor=\"middle\" x=\"132\" y=\"390\">c</text><text alignment-baseline=\"middle\" font-size=\"14\" text-anchor=\"middle\" x=\"177\" y=\"10\">d</text><text alignment-baseline=\"middle\" font-size=\"14\" text-anchor=\"middle\" x=\"177\" y=\"390\">d</text><text alignment-baseline=\"middle\" font-size=\"14\" text-anchor=\"middle\" x=\"222\" y=\"10\">e</text><text alignment-baseline=\"middle\" font-size=\"14\" text-anchor=\"middle\" x=\"222\" y=\"390\">e</text><text alignment-baseline=\"middle\" font-size=\"14\" text-anchor=\"middle\" x=\"267\" y=\"10\">f</text><text alignment-baseline=\"middle\" font-size=\"14\" text-anchor=\"middle\" x=\"267\" y=\"390\">f</text><text alignment-baseline=\"middle\" font-size=\"14\" text-anchor=\"middle\" x=\"312\" y=\"10\">g</text><text alignment-baseline=\"middle\" font-size=\"14\" text-anchor=\"middle\" x=\"312\" y=\"390\">g</text><text alignment-baseline=\"middle\" font-size=\"14\" text-anchor=\"middle\" x=\"357\" y=\"10\">h</text><text alignment-baseline=\"middle\" font-size=\"14\" text-anchor=\"middle\" x=\"357\" y=\"390\">h</text><text alignment-baseline=\"middle\" font-size=\"14\" text-anchor=\"middle\" x=\"10\" y=\"357\">1</text><text alignment-baseline=\"middle\" font-size=\"14\" text-anchor=\"middle\" x=\"390\" y=\"357\">1</text><text alignment-baseline=\"middle\" font-size=\"14\" text-anchor=\"middle\" x=\"10\" y=\"312\">2</text><text alignment-baseline=\"middle\" font-size=\"14\" text-anchor=\"middle\" x=\"390\" y=\"312\">2</text><text alignment-baseline=\"middle\" font-size=\"14\" text-anchor=\"middle\" x=\"10\" y=\"267\">3</text><text alignment-baseline=\"middle\" font-size=\"14\" text-anchor=\"middle\" x=\"390\" y=\"267\">3</text><text alignment-baseline=\"middle\" font-size=\"14\" text-anchor=\"middle\" x=\"10\" y=\"222\">4</text><text alignment-baseline=\"middle\" font-size=\"14\" text-anchor=\"middle\" x=\"390\" y=\"222\">4</text><text alignment-baseline=\"middle\" font-size=\"14\" text-anchor=\"middle\" x=\"10\" y=\"177\">5</text><text alignment-baseline=\"middle\" font-size=\"14\" text-anchor=\"middle\" x=\"390\" y=\"177\">5</text><text alignment-baseline=\"middle\" font-size=\"14\" text-anchor=\"middle\" x=\"10\" y=\"132\">6</text><text alignment-baseline=\"middle\" font-size=\"14\" text-anchor=\"middle\" x=\"390\" y=\"132\">6</text><text alignment-baseline=\"middle\" font-size=\"14\" text-anchor=\"middle\" x=\"10\" y=\"87\">7</text><text alignment-baseline=\"middle\" font-size=\"14\" text-anchor=\"middle\" x=\"390\" y=\"87\">7</text><text alignment-baseline=\"middle\" font-size=\"14\" text-anchor=\"middle\" x=\"10\" y=\"42\">8</text><text alignment-baseline=\"middle\" font-size=\"14\" text-anchor=\"middle\" x=\"390\" y=\"42\">8</text></svg>"
      ],
      "text/plain": [
       "'<svg version=\"1.1\" viewBox=\"0 0 400 400\" xmlns=\"http://www.w3.org/2000/svg\" xmlns:xlink=\"http://www.w3.org/1999/xlink\"><defs><g class=\"white pawn\" id=\"white-pawn\"><path d=\"M22 9c-2.21 0-4 1.79-4 4 0 .89.29 1.71.78 2.38-1.95 1.12-3.28 3.21-3.28 5.62 0 2.03.94 3.84 2.41 5.03-3 1.06-7.41 5.55-7.41 13.47h23c0-7.92-4.41-12.41-7.41-13.47 1.47-1.19 2.41-3 2.41-5.03 0-2.41-1.33-4.5-3.28-5.62.49-.67.78-1.49.78-2.38 0-2.21-1.79-4-4-4z\" fill=\"#fff\" stroke=\"#000\" stroke-linecap=\"round\" stroke-width=\"1.5\" /></g><g class=\"white king\" fill=\"none\" fill-rule=\"evenodd\" id=\"white-king\" stroke=\"#000\" stroke-linecap=\"round\" stroke-linejoin=\"round\" stroke-width=\"1.5\"><path d=\"M22.5 11.63V6M20 8h5\" stroke-linejoin=\"miter\" /><path d=\"M22.5 25s4.5-7.5 3-10.5c0 0-1-2.5-3-2.5s-3 2.5-3 2.5c-1.5 3 3 10.5 3 10.5\" fill=\"#fff\" stroke-linecap=\"butt\" stroke-linejoin=\"miter\" /><path d=\"M11.5 37c5.5 3.5 15.5 3.5 21 0v-7s9-4.5 6-10.5c-4-6.5-13.5-3.5-16 4V27v-3.5c-3.5-7.5-13-10.5-16-4-3 6 5 10 5 10V37z\" fill=\"#fff\" /><path d=\"M11.5 30c5.5-3 15.5-3 21 0m-21 3.5c5.5-3 15.5-3 21 0m-21 3.5c5.5-3 15.5-3 21 0\" /></g><g class=\"black pawn\" id=\"black-pawn\"><path d=\"M22 9c-2.21 0-4 1.79-4 4 0 .89.29 1.71.78 2.38-1.95 1.12-3.28 3.21-3.28 5.62 0 2.03.94 3.84 2.41 5.03-3 1.06-7.41 5.55-7.41 13.47h23c0-7.92-4.41-12.41-7.41-13.47 1.47-1.19 2.41-3 2.41-5.03 0-2.41-1.33-4.5-3.28-5.62.49-.67.78-1.49.78-2.38 0-2.21-1.79-4-4-4z\" stroke=\"#000\" stroke-linecap=\"round\" stroke-width=\"1.5\" /></g><g class=\"black rook\" fill=\"#000\" fill-rule=\"evenodd\" id=\"black-rook\" stroke=\"#000\" stroke-linecap=\"round\" stroke-linejoin=\"round\" stroke-width=\"1.5\"><path d=\"M9 39h27v-3H9v3zM12.5 32l1.5-2.5h17l1.5 2.5h-20zM12 36v-4h21v4H12z\" stroke-linecap=\"butt\" /><path d=\"M14 29.5v-13h17v13H14z\" stroke-linecap=\"butt\" stroke-linejoin=\"miter\" /><path d=\"M14 16.5L11 14h23l-3 2.5H14zM11 14V9h4v2h5V9h5v2h5V9h4v5H11z\" stroke-linecap=\"butt\" /><path d=\"M12 35.5h21M13 31.5h19M14 29.5h17M14 16.5h17M11 14h23\" fill=\"none\" stroke=\"#fff\" stroke-linejoin=\"miter\" stroke-width=\"1\" /></g><g class=\"black queen\" fill=\"#000\" fill-rule=\"evenodd\" id=\"black-queen\" stroke=\"#000\" stroke-linecap=\"round\" stroke-linejoin=\"round\" stroke-width=\"1.5\"><g fill=\"#000\" stroke=\"none\"><circle cx=\"6\" cy=\"12\" r=\"2.75\" /><circle cx=\"14\" cy=\"9\" r=\"2.75\" /><circle cx=\"22.5\" cy=\"8\" r=\"2.75\" /><circle cx=\"31\" cy=\"9\" r=\"2.75\" /><circle cx=\"39\" cy=\"12\" r=\"2.75\" /></g><path d=\"M9 26c8.5-1.5 21-1.5 27 0l2.5-12.5L31 25l-.3-14.1-5.2 13.6-3-14.5-3 14.5-5.2-13.6L14 25 6.5 13.5 9 26zM9 26c0 2 1.5 2 2.5 4 1 1.5 1 1 .5 3.5-1.5 1-1.5 2.5-1.5 2.5-1.5 1.5.5 2.5.5 2.5 6.5 1 16.5 1 23 0 0 0 1.5-1 0-2.5 0 0 .5-1.5-1-2.5-.5-2.5-.5-2 .5-3.5 1-2 2.5-2 2.5-4-8.5-1.5-18.5-1.5-27 0z\" stroke-linecap=\"butt\" /><path d=\"M11 38.5a35 35 1 0 0 23 0\" fill=\"none\" stroke-linecap=\"butt\" /><path d=\"M11 29a35 35 1 0 1 23 0M12.5 31.5h20M11.5 34.5a35 35 1 0 0 22 0M10.5 37.5a35 35 1 0 0 24 0\" fill=\"none\" stroke=\"#fff\" /></g><g class=\"black king\" fill=\"none\" fill-rule=\"evenodd\" id=\"black-king\" stroke=\"#000\" stroke-linecap=\"round\" stroke-linejoin=\"round\" stroke-width=\"1.5\"><path d=\"M22.5 11.63V6\" stroke-linejoin=\"miter\" /><path d=\"M22.5 25s4.5-7.5 3-10.5c0 0-1-2.5-3-2.5s-3 2.5-3 2.5c-1.5 3 3 10.5 3 10.5\" fill=\"#000\" stroke-linecap=\"butt\" stroke-linejoin=\"miter\" /><path d=\"M11.5 37c5.5 3.5 15.5 3.5 21 0v-7s9-4.5 6-10.5c-4-6.5-13.5-3.5-16 4V27v-3.5c-3.5-7.5-13-10.5-16-4-3 6 5 10 5 10V37z\" fill=\"#000\" /><path d=\"M20 8h5\" stroke-linejoin=\"miter\" /><path d=\"M32 29.5s8.5-4 6.03-9.65C34.15 14 25 18 22.5 24.5l.01 2.1-.01-2.1C20 18 9.906 14 6.997 19.85c-2.497 5.65 4.853 9 4.853 9M11.5 30c5.5-3 15.5-3 21 0m-21 3.5c5.5-3 15.5-3 21 0m-21 3.5c5.5-3 15.5-3 21 0\" stroke=\"#fff\" /></g></defs><rect class=\"square dark a1\" fill=\"#d18b47\" height=\"45\" stroke=\"none\" width=\"45\" x=\"20\" y=\"335\" /><use transform=\"translate(20, 335)\" xlink:href=\"#black-queen\" /><rect class=\"square light b1\" fill=\"#ffce9e\" height=\"45\" stroke=\"none\" width=\"45\" x=\"65\" y=\"335\" /><rect class=\"square dark c1\" fill=\"#d18b47\" height=\"45\" stroke=\"none\" width=\"45\" x=\"110\" y=\"335\" /><rect class=\"square light d1\" fill=\"#ffce9e\" height=\"45\" stroke=\"none\" width=\"45\" x=\"155\" y=\"335\" /><rect class=\"square dark e1\" fill=\"#d18b47\" height=\"45\" stroke=\"none\" width=\"45\" x=\"200\" y=\"335\" /><rect class=\"square light f1\" fill=\"#ffce9e\" height=\"45\" stroke=\"none\" width=\"45\" x=\"245\" y=\"335\" /><rect class=\"square dark g1\" fill=\"#d18b47\" height=\"45\" stroke=\"none\" width=\"45\" x=\"290\" y=\"335\" /><rect class=\"square light h1\" fill=\"#ffce9e\" height=\"45\" stroke=\"none\" width=\"45\" x=\"335\" y=\"335\" /><rect class=\"square light a2\" fill=\"#ffce9e\" height=\"45\" stroke=\"none\" width=\"45\" x=\"20\" y=\"290\" /><rect class=\"square dark b2\" fill=\"#d18b47\" height=\"45\" stroke=\"none\" width=\"45\" x=\"65\" y=\"290\" /><use transform=\"translate(65, 290)\" xlink:href=\"#black-pawn\" /><rect class=\"square light c2\" fill=\"#ffce9e\" height=\"45\" stroke=\"none\" width=\"45\" x=\"110\" y=\"290\" /><rect class=\"square dark d2\" fill=\"#d18b47\" height=\"45\" stroke=\"none\" width=\"45\" x=\"155\" y=\"290\" /><rect class=\"square light e2\" fill=\"#ffce9e\" height=\"45\" stroke=\"none\" width=\"45\" x=\"200\" y=\"290\" /><rect class=\"square dark f2\" fill=\"#d18b47\" height=\"45\" stroke=\"none\" width=\"45\" x=\"245\" y=\"290\" /><rect class=\"square light g2\" fill=\"#ffce9e\" height=\"45\" stroke=\"none\" width=\"45\" x=\"290\" y=\"290\" /><use transform=\"translate(290, 290)\" xlink:href=\"#white-king\" /><rect class=\"square dark h2\" fill=\"#d18b47\" height=\"45\" stroke=\"none\" width=\"45\" x=\"335\" y=\"290\" /><rect class=\"square dark a3\" fill=\"#d18b47\" height=\"45\" stroke=\"none\" width=\"45\" x=\"20\" y=\"245\" /><rect class=\"square light b3\" fill=\"#ffce9e\" height=\"45\" stroke=\"none\" width=\"45\" x=\"65\" y=\"245\" /><rect class=\"square dark c3\" fill=\"#d18b47\" height=\"45\" stroke=\"none\" width=\"45\" x=\"110\" y=\"245\" /><rect class=\"square light d3\" fill=\"#ffce9e\" height=\"45\" stroke=\"none\" width=\"45\" x=\"155\" y=\"245\" /><rect class=\"square dark e3\" fill=\"#d18b47\" height=\"45\" stroke=\"none\" width=\"45\" x=\"200\" y=\"245\" /><rect class=\"square light f3\" fill=\"#ffce9e\" height=\"45\" stroke=\"none\" width=\"45\" x=\"245\" y=\"245\" /><rect class=\"square dark g3\" fill=\"#d18b47\" height=\"45\" stroke=\"none\" width=\"45\" x=\"290\" y=\"245\" /><rect class=\"square light h3\" fill=\"#ffce9e\" height=\"45\" stroke=\"none\" width=\"45\" x=\"335\" y=\"245\" /><rect class=\"square light a4\" fill=\"#ffce9e\" height=\"45\" stroke=\"none\" width=\"45\" x=\"20\" y=\"200\" /><rect class=\"square dark b4\" fill=\"#d18b47\" height=\"45\" stroke=\"none\" width=\"45\" x=\"65\" y=\"200\" /><rect class=\"square light c4\" fill=\"#ffce9e\" height=\"45\" stroke=\"none\" width=\"45\" x=\"110\" y=\"200\" /><rect class=\"square dark d4\" fill=\"#d18b47\" height=\"45\" stroke=\"none\" width=\"45\" x=\"155\" y=\"200\" /><use transform=\"translate(155, 200)\" xlink:href=\"#black-pawn\" /><rect class=\"square light e4\" fill=\"#ffce9e\" height=\"45\" stroke=\"none\" width=\"45\" x=\"200\" y=\"200\" /><rect class=\"square dark f4\" fill=\"#d18b47\" height=\"45\" stroke=\"none\" width=\"45\" x=\"245\" y=\"200\" /><rect class=\"square light g4\" fill=\"#ffce9e\" height=\"45\" stroke=\"none\" width=\"45\" x=\"290\" y=\"200\" /><rect class=\"square dark h4\" fill=\"#d18b47\" height=\"45\" stroke=\"none\" width=\"45\" x=\"335\" y=\"200\" /><rect class=\"square dark a5\" fill=\"#d18b47\" height=\"45\" stroke=\"none\" width=\"45\" x=\"20\" y=\"155\" /><rect class=\"square light b5\" fill=\"#ffce9e\" height=\"45\" stroke=\"none\" width=\"45\" x=\"65\" y=\"155\" /><rect class=\"square dark c5\" fill=\"#d18b47\" height=\"45\" stroke=\"none\" width=\"45\" x=\"110\" y=\"155\" /><rect class=\"square light d5\" fill=\"#ffce9e\" height=\"45\" stroke=\"none\" width=\"45\" x=\"155\" y=\"155\" /><rect class=\"square dark e5\" fill=\"#d18b47\" height=\"45\" stroke=\"none\" width=\"45\" x=\"200\" y=\"155\" /><rect class=\"square light f5\" fill=\"#ffce9e\" height=\"45\" stroke=\"none\" width=\"45\" x=\"245\" y=\"155\" /><use transform=\"translate(245, 155)\" xlink:href=\"#white-pawn\" /><rect class=\"square dark g5\" fill=\"#d18b47\" height=\"45\" stroke=\"none\" width=\"45\" x=\"290\" y=\"155\" /><rect class=\"square light h5\" fill=\"#ffce9e\" height=\"45\" stroke=\"none\" width=\"45\" x=\"335\" y=\"155\" /><rect class=\"square light a6\" fill=\"#ffce9e\" height=\"45\" stroke=\"none\" width=\"45\" x=\"20\" y=\"110\" /><rect class=\"square dark b6\" fill=\"#d18b47\" height=\"45\" stroke=\"none\" width=\"45\" x=\"65\" y=\"110\" /><rect class=\"square light c6\" fill=\"#ffce9e\" height=\"45\" stroke=\"none\" width=\"45\" x=\"110\" y=\"110\" /><rect class=\"square dark d6\" fill=\"#d18b47\" height=\"45\" stroke=\"none\" width=\"45\" x=\"155\" y=\"110\" /><rect class=\"square light e6\" fill=\"#ffce9e\" height=\"45\" stroke=\"none\" width=\"45\" x=\"200\" y=\"110\" /><rect class=\"square dark f6\" fill=\"#d18b47\" height=\"45\" stroke=\"none\" width=\"45\" x=\"245\" y=\"110\" /><rect class=\"square light g6\" fill=\"#ffce9e\" height=\"45\" stroke=\"none\" width=\"45\" x=\"290\" y=\"110\" /><rect class=\"square dark h6\" fill=\"#d18b47\" height=\"45\" stroke=\"none\" width=\"45\" x=\"335\" y=\"110\" /><rect class=\"square dark a7\" fill=\"#d18b47\" height=\"45\" stroke=\"none\" width=\"45\" x=\"20\" y=\"65\" /><rect class=\"square light b7\" fill=\"#ffce9e\" height=\"45\" stroke=\"none\" width=\"45\" x=\"65\" y=\"65\" /><rect class=\"square dark c7\" fill=\"#d18b47\" height=\"45\" stroke=\"none\" width=\"45\" x=\"110\" y=\"65\" /><rect class=\"square light d7\" fill=\"#ffce9e\" height=\"45\" stroke=\"none\" width=\"45\" x=\"155\" y=\"65\" /><rect class=\"square dark e7\" fill=\"#d18b47\" height=\"45\" stroke=\"none\" width=\"45\" x=\"200\" y=\"65\" /><rect class=\"square light f7\" fill=\"#ffce9e\" height=\"45\" stroke=\"none\" width=\"45\" x=\"245\" y=\"65\" /><rect class=\"square dark g7\" fill=\"#d18b47\" height=\"45\" stroke=\"none\" width=\"45\" x=\"290\" y=\"65\" /><rect class=\"square light h7\" fill=\"#ffce9e\" height=\"45\" stroke=\"none\" width=\"45\" x=\"335\" y=\"65\" /><rect class=\"square light a8\" fill=\"#ffce9e\" height=\"45\" stroke=\"none\" width=\"45\" x=\"20\" y=\"20\" /><use transform=\"translate(20, 20)\" xlink:href=\"#black-rook\" /><rect class=\"square dark b8\" fill=\"#d18b47\" height=\"45\" stroke=\"none\" width=\"45\" x=\"65\" y=\"20\" /><rect class=\"square light c8\" fill=\"#ffce9e\" height=\"45\" stroke=\"none\" width=\"45\" x=\"110\" y=\"20\" /><rect class=\"square dark d8\" fill=\"#d18b47\" height=\"45\" stroke=\"none\" width=\"45\" x=\"155\" y=\"20\" /><rect class=\"square light e8\" fill=\"#ffce9e\" height=\"45\" stroke=\"none\" width=\"45\" x=\"200\" y=\"20\" /><rect class=\"square dark f8\" fill=\"#d18b47\" height=\"45\" stroke=\"none\" width=\"45\" x=\"245\" y=\"20\" /><rect class=\"square light g8\" fill=\"#ffce9e\" height=\"45\" stroke=\"none\" width=\"45\" x=\"290\" y=\"20\" /><use transform=\"translate(290, 20)\" xlink:href=\"#black-king\" /><rect class=\"square dark h8\" fill=\"#d18b47\" height=\"45\" stroke=\"none\" width=\"45\" x=\"335\" y=\"20\" /><text alignment-baseline=\"middle\" font-size=\"14\" text-anchor=\"middle\" x=\"42\" y=\"10\">a</text><text alignment-baseline=\"middle\" font-size=\"14\" text-anchor=\"middle\" x=\"42\" y=\"390\">a</text><text alignment-baseline=\"middle\" font-size=\"14\" text-anchor=\"middle\" x=\"87\" y=\"10\">b</text><text alignment-baseline=\"middle\" font-size=\"14\" text-anchor=\"middle\" x=\"87\" y=\"390\">b</text><text alignment-baseline=\"middle\" font-size=\"14\" text-anchor=\"middle\" x=\"132\" y=\"10\">c</text><text alignment-baseline=\"middle\" font-size=\"14\" text-anchor=\"middle\" x=\"132\" y=\"390\">c</text><text alignment-baseline=\"middle\" font-size=\"14\" text-anchor=\"middle\" x=\"177\" y=\"10\">d</text><text alignment-baseline=\"middle\" font-size=\"14\" text-anchor=\"middle\" x=\"177\" y=\"390\">d</text><text alignment-baseline=\"middle\" font-size=\"14\" text-anchor=\"middle\" x=\"222\" y=\"10\">e</text><text alignment-baseline=\"middle\" font-size=\"14\" text-anchor=\"middle\" x=\"222\" y=\"390\">e</text><text alignment-baseline=\"middle\" font-size=\"14\" text-anchor=\"middle\" x=\"267\" y=\"10\">f</text><text alignment-baseline=\"middle\" font-size=\"14\" text-anchor=\"middle\" x=\"267\" y=\"390\">f</text><text alignment-baseline=\"middle\" font-size=\"14\" text-anchor=\"middle\" x=\"312\" y=\"10\">g</text><text alignment-baseline=\"middle\" font-size=\"14\" text-anchor=\"middle\" x=\"312\" y=\"390\">g</text><text alignment-baseline=\"middle\" font-size=\"14\" text-anchor=\"middle\" x=\"357\" y=\"10\">h</text><text alignment-baseline=\"middle\" font-size=\"14\" text-anchor=\"middle\" x=\"357\" y=\"390\">h</text><text alignment-baseline=\"middle\" font-size=\"14\" text-anchor=\"middle\" x=\"10\" y=\"357\">1</text><text alignment-baseline=\"middle\" font-size=\"14\" text-anchor=\"middle\" x=\"390\" y=\"357\">1</text><text alignment-baseline=\"middle\" font-size=\"14\" text-anchor=\"middle\" x=\"10\" y=\"312\">2</text><text alignment-baseline=\"middle\" font-size=\"14\" text-anchor=\"middle\" x=\"390\" y=\"312\">2</text><text alignment-baseline=\"middle\" font-size=\"14\" text-anchor=\"middle\" x=\"10\" y=\"267\">3</text><text alignment-baseline=\"middle\" font-size=\"14\" text-anchor=\"middle\" x=\"390\" y=\"267\">3</text><text alignment-baseline=\"middle\" font-size=\"14\" text-anchor=\"middle\" x=\"10\" y=\"222\">4</text><text alignment-baseline=\"middle\" font-size=\"14\" text-anchor=\"middle\" x=\"390\" y=\"222\">4</text><text alignment-baseline=\"middle\" font-size=\"14\" text-anchor=\"middle\" x=\"10\" y=\"177\">5</text><text alignment-baseline=\"middle\" font-size=\"14\" text-anchor=\"middle\" x=\"390\" y=\"177\">5</text><text alignment-baseline=\"middle\" font-size=\"14\" text-anchor=\"middle\" x=\"10\" y=\"132\">6</text><text alignment-baseline=\"middle\" font-size=\"14\" text-anchor=\"middle\" x=\"390\" y=\"132\">6</text><text alignment-baseline=\"middle\" font-size=\"14\" text-anchor=\"middle\" x=\"10\" y=\"87\">7</text><text alignment-baseline=\"middle\" font-size=\"14\" text-anchor=\"middle\" x=\"390\" y=\"87\">7</text><text alignment-baseline=\"middle\" font-size=\"14\" text-anchor=\"middle\" x=\"10\" y=\"42\">8</text><text alignment-baseline=\"middle\" font-size=\"14\" text-anchor=\"middle\" x=\"390\" y=\"42\">8</text></svg>'"
      ]
     },
     "metadata": {},
     "output_type": "display_data"
    }
   ],
   "source": [
    "Make_move(board, False)\n",
    "display(chess.svg.board(board=board))"
   ]
  },
  {
   "cell_type": "code",
   "execution_count": 68,
   "metadata": {},
   "outputs": [],
   "source": [
    "def Just_convert():\n",
    "    pgnFormat = \"1. d4 d5 2. c4 e6 3. Nc3 Bb4 4. e3 dxc4 5. Ne2 Nf6 6. a3 Bxc3+ 7. Nxc3 O-O 8. Bxc4 a6 9. e4 b5 10. Bb3 e5 11. Bg5 exd4 12. Nd5 Bg4 13. f3 Be6 14. Bxf6 gxf6 15. Qxd4 Bxd5 16. Bxd5 c6 17. O-O cxd5 18. exd5 Nc6 19. Qg4+ Kh8 20. dxc6 Qd6 21. Rac1 Rac8 22. Qb4 Qe5 23. Rfe1 Qg5 24. c7 Rg8 25. g3 f5 26. Rc6 f4 27. Qd4+ Rg7 28. Re8+ Rxe8 29. c8=Q Rg8 30. Qxg8+ Kxg8 31. Rc8+\"\n",
    "    converter.resetBoard()\n",
    "    for move in pgnFormat.split(' '):\n",
    "        if len(move) != 0 and move[-1] != '.':\n",
    "            #try:\n",
    "            converter.move(move)\n",
    "            #except IndexError():\n",
    "             #   print(move)\n",
    "              #  print(IndexError())\n",
    "            #print(move)\n",
    "            FEN_line = converter.getFullFen()\n",
    "            #print(FEN_line)\n",
    "            \n",
    "            \n",
    "            #Numbered_pieces(FEN_line, Win)\n",
    "    #print(converter.getFullFen())\n"
   ]
  },
  {
   "cell_type": "code",
   "execution_count": 556,
   "metadata": {},
   "outputs": [],
   "source": [
    "import pickle \n",
    "s = pickle.dumps(M_clf)\n",
    "f = open(\"MLP_net\", \"wb\")\n",
    "pickle.dump(M_clf, f)\n",
    "f.close()\n",
    "\n"
   ]
  },
  {
   "cell_type": "code",
   "execution_count": 345,
   "metadata": {},
   "outputs": [],
   "source": [
    "import pickle\n",
    "f = open(\"X_data\", \"wb\")\n",
    "pickle.dump(X, f)\n",
    "f.close()\n",
    "f = open(\"y_data\", \"wb\")\n",
    "pickle.dump(y, f)\n",
    "f.close()"
   ]
  },
  {
   "cell_type": "code",
   "execution_count": 4,
   "metadata": {},
   "outputs": [
    {
     "name": "stdout",
     "output_type": "stream",
     "text": [
      "8656\n"
     ]
    }
   ],
   "source": [
    "print(len(X_data))"
   ]
  }
 ],
 "metadata": {
  "kernelspec": {
   "display_name": "Python 3",
   "language": "python",
   "name": "python3"
  },
  "language_info": {
   "codemirror_mode": {
    "name": "ipython",
    "version": 3
   },
   "file_extension": ".py",
   "mimetype": "text/x-python",
   "name": "python",
   "nbconvert_exporter": "python",
   "pygments_lexer": "ipython3",
   "version": "3.7.3"
  }
 },
 "nbformat": 4,
 "nbformat_minor": 2
}
